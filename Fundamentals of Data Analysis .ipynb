{
 "cells": [
  {
   "cell_type": "code",
   "execution_count": 85,
   "metadata": {},
   "outputs": [],
   "source": [
    "import seaborn as sns\n",
    "import numpy as np\n",
    "import matplotlib.pyplot as plt\n",
    "import pandas as pd\n",
    "from IPython.display import display_html"
   ]
  },
  {
   "cell_type": "code",
   "execution_count": 84,
   "metadata": {},
   "outputs": [],
   "source": [
    "from IPython.display import Markdown, display\n",
    "def printmd(string):\n",
    "    display(Markdown(string))"
   ]
  },
  {
   "cell_type": "code",
   "execution_count": 61,
   "metadata": {},
   "outputs": [],
   "source": [
    "df = sns.load_dataset(\"anscombe\")"
   ]
  },
  {
   "cell_type": "code",
   "execution_count": 62,
   "metadata": {},
   "outputs": [],
   "source": [
    "Q1 = df.loc[df['dataset'] == 'I']\n",
    "Q2 = df.loc[df['dataset'] == 'II']\n",
    "Q3 = df.loc[df['dataset'] == 'III']\n",
    "Q4 = df.loc[df['dataset'] == 'IV']"
   ]
  },
  {
   "cell_type": "code",
   "execution_count": 63,
   "metadata": {},
   "outputs": [],
   "source": [
    "Q1=Q1.drop('dataset',1)\n",
    "Q2=Q2.drop('dataset',1)\n",
    "Q3=Q3.drop('dataset',1)\n",
    "Q4=Q4.drop('dataset',1)"
   ]
  },
  {
   "cell_type": "code",
   "execution_count": 86,
   "metadata": {
    "scrolled": true
   },
   "outputs": [
    {
     "data": {
      "text/markdown": [
       "**Ascombe's Quartet**"
      ],
      "text/plain": [
       "<IPython.core.display.Markdown object>"
      ]
     },
     "metadata": {},
     "output_type": "display_data"
    },
    {
     "data": {
      "text/html": [
       "<style  type=\"text/css\" >\n",
       "</style>  \n",
       "<table id=\"T_f3f6cfe2_e202_11e8_951c_acb57d3c0dc9\" style='display:inline'><caption>Q 1</caption> \n",
       "<thead>    <tr> \n",
       "        <th class=\"blank level0\" ></th> \n",
       "        <th class=\"col_heading level0 col0\" >x</th> \n",
       "        <th class=\"col_heading level0 col1\" >y</th> \n",
       "    </tr></thead> \n",
       "<tbody>    <tr> \n",
       "        <th id=\"T_f3f6cfe2_e202_11e8_951c_acb57d3c0dc9level0_row0\" class=\"row_heading level0 row0\" >0</th> \n",
       "        <td id=\"T_f3f6cfe2_e202_11e8_951c_acb57d3c0dc9row0_col0\" class=\"data row0 col0\" >10</td> \n",
       "        <td id=\"T_f3f6cfe2_e202_11e8_951c_acb57d3c0dc9row0_col1\" class=\"data row0 col1\" >8.04</td> \n",
       "    </tr>    <tr> \n",
       "        <th id=\"T_f3f6cfe2_e202_11e8_951c_acb57d3c0dc9level0_row1\" class=\"row_heading level0 row1\" >1</th> \n",
       "        <td id=\"T_f3f6cfe2_e202_11e8_951c_acb57d3c0dc9row1_col0\" class=\"data row1 col0\" >8</td> \n",
       "        <td id=\"T_f3f6cfe2_e202_11e8_951c_acb57d3c0dc9row1_col1\" class=\"data row1 col1\" >6.95</td> \n",
       "    </tr>    <tr> \n",
       "        <th id=\"T_f3f6cfe2_e202_11e8_951c_acb57d3c0dc9level0_row2\" class=\"row_heading level0 row2\" >2</th> \n",
       "        <td id=\"T_f3f6cfe2_e202_11e8_951c_acb57d3c0dc9row2_col0\" class=\"data row2 col0\" >13</td> \n",
       "        <td id=\"T_f3f6cfe2_e202_11e8_951c_acb57d3c0dc9row2_col1\" class=\"data row2 col1\" >7.58</td> \n",
       "    </tr>    <tr> \n",
       "        <th id=\"T_f3f6cfe2_e202_11e8_951c_acb57d3c0dc9level0_row3\" class=\"row_heading level0 row3\" >3</th> \n",
       "        <td id=\"T_f3f6cfe2_e202_11e8_951c_acb57d3c0dc9row3_col0\" class=\"data row3 col0\" >9</td> \n",
       "        <td id=\"T_f3f6cfe2_e202_11e8_951c_acb57d3c0dc9row3_col1\" class=\"data row3 col1\" >8.81</td> \n",
       "    </tr>    <tr> \n",
       "        <th id=\"T_f3f6cfe2_e202_11e8_951c_acb57d3c0dc9level0_row4\" class=\"row_heading level0 row4\" >4</th> \n",
       "        <td id=\"T_f3f6cfe2_e202_11e8_951c_acb57d3c0dc9row4_col0\" class=\"data row4 col0\" >11</td> \n",
       "        <td id=\"T_f3f6cfe2_e202_11e8_951c_acb57d3c0dc9row4_col1\" class=\"data row4 col1\" >8.33</td> \n",
       "    </tr>    <tr> \n",
       "        <th id=\"T_f3f6cfe2_e202_11e8_951c_acb57d3c0dc9level0_row5\" class=\"row_heading level0 row5\" >5</th> \n",
       "        <td id=\"T_f3f6cfe2_e202_11e8_951c_acb57d3c0dc9row5_col0\" class=\"data row5 col0\" >14</td> \n",
       "        <td id=\"T_f3f6cfe2_e202_11e8_951c_acb57d3c0dc9row5_col1\" class=\"data row5 col1\" >9.96</td> \n",
       "    </tr>    <tr> \n",
       "        <th id=\"T_f3f6cfe2_e202_11e8_951c_acb57d3c0dc9level0_row6\" class=\"row_heading level0 row6\" >6</th> \n",
       "        <td id=\"T_f3f6cfe2_e202_11e8_951c_acb57d3c0dc9row6_col0\" class=\"data row6 col0\" >6</td> \n",
       "        <td id=\"T_f3f6cfe2_e202_11e8_951c_acb57d3c0dc9row6_col1\" class=\"data row6 col1\" >7.24</td> \n",
       "    </tr>    <tr> \n",
       "        <th id=\"T_f3f6cfe2_e202_11e8_951c_acb57d3c0dc9level0_row7\" class=\"row_heading level0 row7\" >7</th> \n",
       "        <td id=\"T_f3f6cfe2_e202_11e8_951c_acb57d3c0dc9row7_col0\" class=\"data row7 col0\" >4</td> \n",
       "        <td id=\"T_f3f6cfe2_e202_11e8_951c_acb57d3c0dc9row7_col1\" class=\"data row7 col1\" >4.26</td> \n",
       "    </tr>    <tr> \n",
       "        <th id=\"T_f3f6cfe2_e202_11e8_951c_acb57d3c0dc9level0_row8\" class=\"row_heading level0 row8\" >8</th> \n",
       "        <td id=\"T_f3f6cfe2_e202_11e8_951c_acb57d3c0dc9row8_col0\" class=\"data row8 col0\" >12</td> \n",
       "        <td id=\"T_f3f6cfe2_e202_11e8_951c_acb57d3c0dc9row8_col1\" class=\"data row8 col1\" >10.84</td> \n",
       "    </tr>    <tr> \n",
       "        <th id=\"T_f3f6cfe2_e202_11e8_951c_acb57d3c0dc9level0_row9\" class=\"row_heading level0 row9\" >9</th> \n",
       "        <td id=\"T_f3f6cfe2_e202_11e8_951c_acb57d3c0dc9row9_col0\" class=\"data row9 col0\" >7</td> \n",
       "        <td id=\"T_f3f6cfe2_e202_11e8_951c_acb57d3c0dc9row9_col1\" class=\"data row9 col1\" >4.82</td> \n",
       "    </tr>    <tr> \n",
       "        <th id=\"T_f3f6cfe2_e202_11e8_951c_acb57d3c0dc9level0_row10\" class=\"row_heading level0 row10\" >10</th> \n",
       "        <td id=\"T_f3f6cfe2_e202_11e8_951c_acb57d3c0dc9row10_col0\" class=\"data row10 col0\" >5</td> \n",
       "        <td id=\"T_f3f6cfe2_e202_11e8_951c_acb57d3c0dc9row10_col1\" class=\"data row10 col1\" >5.68</td> \n",
       "    </tr></tbody> \n",
       "</table> <style  type=\"text/css\" >\n",
       "</style>  \n",
       "<table id=\"T_f3f76c34_e202_11e8_9eee_acb57d3c0dc9\" style='display:inline'><caption>Q 2</caption> \n",
       "<thead>    <tr> \n",
       "        <th class=\"blank level0\" ></th> \n",
       "        <th class=\"col_heading level0 col0\" >x</th> \n",
       "        <th class=\"col_heading level0 col1\" >y</th> \n",
       "    </tr></thead> \n",
       "<tbody>    <tr> \n",
       "        <th id=\"T_f3f76c34_e202_11e8_9eee_acb57d3c0dc9level0_row0\" class=\"row_heading level0 row0\" >11</th> \n",
       "        <td id=\"T_f3f76c34_e202_11e8_9eee_acb57d3c0dc9row0_col0\" class=\"data row0 col0\" >10</td> \n",
       "        <td id=\"T_f3f76c34_e202_11e8_9eee_acb57d3c0dc9row0_col1\" class=\"data row0 col1\" >9.14</td> \n",
       "    </tr>    <tr> \n",
       "        <th id=\"T_f3f76c34_e202_11e8_9eee_acb57d3c0dc9level0_row1\" class=\"row_heading level0 row1\" >12</th> \n",
       "        <td id=\"T_f3f76c34_e202_11e8_9eee_acb57d3c0dc9row1_col0\" class=\"data row1 col0\" >8</td> \n",
       "        <td id=\"T_f3f76c34_e202_11e8_9eee_acb57d3c0dc9row1_col1\" class=\"data row1 col1\" >8.14</td> \n",
       "    </tr>    <tr> \n",
       "        <th id=\"T_f3f76c34_e202_11e8_9eee_acb57d3c0dc9level0_row2\" class=\"row_heading level0 row2\" >13</th> \n",
       "        <td id=\"T_f3f76c34_e202_11e8_9eee_acb57d3c0dc9row2_col0\" class=\"data row2 col0\" >13</td> \n",
       "        <td id=\"T_f3f76c34_e202_11e8_9eee_acb57d3c0dc9row2_col1\" class=\"data row2 col1\" >8.74</td> \n",
       "    </tr>    <tr> \n",
       "        <th id=\"T_f3f76c34_e202_11e8_9eee_acb57d3c0dc9level0_row3\" class=\"row_heading level0 row3\" >14</th> \n",
       "        <td id=\"T_f3f76c34_e202_11e8_9eee_acb57d3c0dc9row3_col0\" class=\"data row3 col0\" >9</td> \n",
       "        <td id=\"T_f3f76c34_e202_11e8_9eee_acb57d3c0dc9row3_col1\" class=\"data row3 col1\" >8.77</td> \n",
       "    </tr>    <tr> \n",
       "        <th id=\"T_f3f76c34_e202_11e8_9eee_acb57d3c0dc9level0_row4\" class=\"row_heading level0 row4\" >15</th> \n",
       "        <td id=\"T_f3f76c34_e202_11e8_9eee_acb57d3c0dc9row4_col0\" class=\"data row4 col0\" >11</td> \n",
       "        <td id=\"T_f3f76c34_e202_11e8_9eee_acb57d3c0dc9row4_col1\" class=\"data row4 col1\" >9.26</td> \n",
       "    </tr>    <tr> \n",
       "        <th id=\"T_f3f76c34_e202_11e8_9eee_acb57d3c0dc9level0_row5\" class=\"row_heading level0 row5\" >16</th> \n",
       "        <td id=\"T_f3f76c34_e202_11e8_9eee_acb57d3c0dc9row5_col0\" class=\"data row5 col0\" >14</td> \n",
       "        <td id=\"T_f3f76c34_e202_11e8_9eee_acb57d3c0dc9row5_col1\" class=\"data row5 col1\" >8.1</td> \n",
       "    </tr>    <tr> \n",
       "        <th id=\"T_f3f76c34_e202_11e8_9eee_acb57d3c0dc9level0_row6\" class=\"row_heading level0 row6\" >17</th> \n",
       "        <td id=\"T_f3f76c34_e202_11e8_9eee_acb57d3c0dc9row6_col0\" class=\"data row6 col0\" >6</td> \n",
       "        <td id=\"T_f3f76c34_e202_11e8_9eee_acb57d3c0dc9row6_col1\" class=\"data row6 col1\" >6.13</td> \n",
       "    </tr>    <tr> \n",
       "        <th id=\"T_f3f76c34_e202_11e8_9eee_acb57d3c0dc9level0_row7\" class=\"row_heading level0 row7\" >18</th> \n",
       "        <td id=\"T_f3f76c34_e202_11e8_9eee_acb57d3c0dc9row7_col0\" class=\"data row7 col0\" >4</td> \n",
       "        <td id=\"T_f3f76c34_e202_11e8_9eee_acb57d3c0dc9row7_col1\" class=\"data row7 col1\" >3.1</td> \n",
       "    </tr>    <tr> \n",
       "        <th id=\"T_f3f76c34_e202_11e8_9eee_acb57d3c0dc9level0_row8\" class=\"row_heading level0 row8\" >19</th> \n",
       "        <td id=\"T_f3f76c34_e202_11e8_9eee_acb57d3c0dc9row8_col0\" class=\"data row8 col0\" >12</td> \n",
       "        <td id=\"T_f3f76c34_e202_11e8_9eee_acb57d3c0dc9row8_col1\" class=\"data row8 col1\" >9.13</td> \n",
       "    </tr>    <tr> \n",
       "        <th id=\"T_f3f76c34_e202_11e8_9eee_acb57d3c0dc9level0_row9\" class=\"row_heading level0 row9\" >20</th> \n",
       "        <td id=\"T_f3f76c34_e202_11e8_9eee_acb57d3c0dc9row9_col0\" class=\"data row9 col0\" >7</td> \n",
       "        <td id=\"T_f3f76c34_e202_11e8_9eee_acb57d3c0dc9row9_col1\" class=\"data row9 col1\" >7.26</td> \n",
       "    </tr>    <tr> \n",
       "        <th id=\"T_f3f76c34_e202_11e8_9eee_acb57d3c0dc9level0_row10\" class=\"row_heading level0 row10\" >21</th> \n",
       "        <td id=\"T_f3f76c34_e202_11e8_9eee_acb57d3c0dc9row10_col0\" class=\"data row10 col0\" >5</td> \n",
       "        <td id=\"T_f3f76c34_e202_11e8_9eee_acb57d3c0dc9row10_col1\" class=\"data row10 col1\" >4.74</td> \n",
       "    </tr></tbody> \n",
       "</table> <style  type=\"text/css\" >\n",
       "</style>  \n",
       "<table id=\"T_f3f808ee_e202_11e8_bcc1_acb57d3c0dc9\" style='display:inline'><caption>Q 3</caption> \n",
       "<thead>    <tr> \n",
       "        <th class=\"blank level0\" ></th> \n",
       "        <th class=\"col_heading level0 col0\" >x</th> \n",
       "        <th class=\"col_heading level0 col1\" >y</th> \n",
       "    </tr></thead> \n",
       "<tbody>    <tr> \n",
       "        <th id=\"T_f3f808ee_e202_11e8_bcc1_acb57d3c0dc9level0_row0\" class=\"row_heading level0 row0\" >22</th> \n",
       "        <td id=\"T_f3f808ee_e202_11e8_bcc1_acb57d3c0dc9row0_col0\" class=\"data row0 col0\" >10</td> \n",
       "        <td id=\"T_f3f808ee_e202_11e8_bcc1_acb57d3c0dc9row0_col1\" class=\"data row0 col1\" >7.46</td> \n",
       "    </tr>    <tr> \n",
       "        <th id=\"T_f3f808ee_e202_11e8_bcc1_acb57d3c0dc9level0_row1\" class=\"row_heading level0 row1\" >23</th> \n",
       "        <td id=\"T_f3f808ee_e202_11e8_bcc1_acb57d3c0dc9row1_col0\" class=\"data row1 col0\" >8</td> \n",
       "        <td id=\"T_f3f808ee_e202_11e8_bcc1_acb57d3c0dc9row1_col1\" class=\"data row1 col1\" >6.77</td> \n",
       "    </tr>    <tr> \n",
       "        <th id=\"T_f3f808ee_e202_11e8_bcc1_acb57d3c0dc9level0_row2\" class=\"row_heading level0 row2\" >24</th> \n",
       "        <td id=\"T_f3f808ee_e202_11e8_bcc1_acb57d3c0dc9row2_col0\" class=\"data row2 col0\" >13</td> \n",
       "        <td id=\"T_f3f808ee_e202_11e8_bcc1_acb57d3c0dc9row2_col1\" class=\"data row2 col1\" >12.74</td> \n",
       "    </tr>    <tr> \n",
       "        <th id=\"T_f3f808ee_e202_11e8_bcc1_acb57d3c0dc9level0_row3\" class=\"row_heading level0 row3\" >25</th> \n",
       "        <td id=\"T_f3f808ee_e202_11e8_bcc1_acb57d3c0dc9row3_col0\" class=\"data row3 col0\" >9</td> \n",
       "        <td id=\"T_f3f808ee_e202_11e8_bcc1_acb57d3c0dc9row3_col1\" class=\"data row3 col1\" >7.11</td> \n",
       "    </tr>    <tr> \n",
       "        <th id=\"T_f3f808ee_e202_11e8_bcc1_acb57d3c0dc9level0_row4\" class=\"row_heading level0 row4\" >26</th> \n",
       "        <td id=\"T_f3f808ee_e202_11e8_bcc1_acb57d3c0dc9row4_col0\" class=\"data row4 col0\" >11</td> \n",
       "        <td id=\"T_f3f808ee_e202_11e8_bcc1_acb57d3c0dc9row4_col1\" class=\"data row4 col1\" >7.81</td> \n",
       "    </tr>    <tr> \n",
       "        <th id=\"T_f3f808ee_e202_11e8_bcc1_acb57d3c0dc9level0_row5\" class=\"row_heading level0 row5\" >27</th> \n",
       "        <td id=\"T_f3f808ee_e202_11e8_bcc1_acb57d3c0dc9row5_col0\" class=\"data row5 col0\" >14</td> \n",
       "        <td id=\"T_f3f808ee_e202_11e8_bcc1_acb57d3c0dc9row5_col1\" class=\"data row5 col1\" >8.84</td> \n",
       "    </tr>    <tr> \n",
       "        <th id=\"T_f3f808ee_e202_11e8_bcc1_acb57d3c0dc9level0_row6\" class=\"row_heading level0 row6\" >28</th> \n",
       "        <td id=\"T_f3f808ee_e202_11e8_bcc1_acb57d3c0dc9row6_col0\" class=\"data row6 col0\" >6</td> \n",
       "        <td id=\"T_f3f808ee_e202_11e8_bcc1_acb57d3c0dc9row6_col1\" class=\"data row6 col1\" >6.08</td> \n",
       "    </tr>    <tr> \n",
       "        <th id=\"T_f3f808ee_e202_11e8_bcc1_acb57d3c0dc9level0_row7\" class=\"row_heading level0 row7\" >29</th> \n",
       "        <td id=\"T_f3f808ee_e202_11e8_bcc1_acb57d3c0dc9row7_col0\" class=\"data row7 col0\" >4</td> \n",
       "        <td id=\"T_f3f808ee_e202_11e8_bcc1_acb57d3c0dc9row7_col1\" class=\"data row7 col1\" >5.39</td> \n",
       "    </tr>    <tr> \n",
       "        <th id=\"T_f3f808ee_e202_11e8_bcc1_acb57d3c0dc9level0_row8\" class=\"row_heading level0 row8\" >30</th> \n",
       "        <td id=\"T_f3f808ee_e202_11e8_bcc1_acb57d3c0dc9row8_col0\" class=\"data row8 col0\" >12</td> \n",
       "        <td id=\"T_f3f808ee_e202_11e8_bcc1_acb57d3c0dc9row8_col1\" class=\"data row8 col1\" >8.15</td> \n",
       "    </tr>    <tr> \n",
       "        <th id=\"T_f3f808ee_e202_11e8_bcc1_acb57d3c0dc9level0_row9\" class=\"row_heading level0 row9\" >31</th> \n",
       "        <td id=\"T_f3f808ee_e202_11e8_bcc1_acb57d3c0dc9row9_col0\" class=\"data row9 col0\" >7</td> \n",
       "        <td id=\"T_f3f808ee_e202_11e8_bcc1_acb57d3c0dc9row9_col1\" class=\"data row9 col1\" >6.42</td> \n",
       "    </tr>    <tr> \n",
       "        <th id=\"T_f3f808ee_e202_11e8_bcc1_acb57d3c0dc9level0_row10\" class=\"row_heading level0 row10\" >32</th> \n",
       "        <td id=\"T_f3f808ee_e202_11e8_bcc1_acb57d3c0dc9row10_col0\" class=\"data row10 col0\" >5</td> \n",
       "        <td id=\"T_f3f808ee_e202_11e8_bcc1_acb57d3c0dc9row10_col1\" class=\"data row10 col1\" >5.73</td> \n",
       "    </tr></tbody> \n",
       "</table> <style  type=\"text/css\" >\n",
       "</style>  \n",
       "<table id=\"T_f3f8a478_e202_11e8_8fa3_acb57d3c0dc9\" style='display:inline'><caption>Q 4</caption> \n",
       "<thead>    <tr> \n",
       "        <th class=\"blank level0\" ></th> \n",
       "        <th class=\"col_heading level0 col0\" >x</th> \n",
       "        <th class=\"col_heading level0 col1\" >y</th> \n",
       "    </tr></thead> \n",
       "<tbody>    <tr> \n",
       "        <th id=\"T_f3f8a478_e202_11e8_8fa3_acb57d3c0dc9level0_row0\" class=\"row_heading level0 row0\" >33</th> \n",
       "        <td id=\"T_f3f8a478_e202_11e8_8fa3_acb57d3c0dc9row0_col0\" class=\"data row0 col0\" >8</td> \n",
       "        <td id=\"T_f3f8a478_e202_11e8_8fa3_acb57d3c0dc9row0_col1\" class=\"data row0 col1\" >6.58</td> \n",
       "    </tr>    <tr> \n",
       "        <th id=\"T_f3f8a478_e202_11e8_8fa3_acb57d3c0dc9level0_row1\" class=\"row_heading level0 row1\" >34</th> \n",
       "        <td id=\"T_f3f8a478_e202_11e8_8fa3_acb57d3c0dc9row1_col0\" class=\"data row1 col0\" >8</td> \n",
       "        <td id=\"T_f3f8a478_e202_11e8_8fa3_acb57d3c0dc9row1_col1\" class=\"data row1 col1\" >5.76</td> \n",
       "    </tr>    <tr> \n",
       "        <th id=\"T_f3f8a478_e202_11e8_8fa3_acb57d3c0dc9level0_row2\" class=\"row_heading level0 row2\" >35</th> \n",
       "        <td id=\"T_f3f8a478_e202_11e8_8fa3_acb57d3c0dc9row2_col0\" class=\"data row2 col0\" >8</td> \n",
       "        <td id=\"T_f3f8a478_e202_11e8_8fa3_acb57d3c0dc9row2_col1\" class=\"data row2 col1\" >7.71</td> \n",
       "    </tr>    <tr> \n",
       "        <th id=\"T_f3f8a478_e202_11e8_8fa3_acb57d3c0dc9level0_row3\" class=\"row_heading level0 row3\" >36</th> \n",
       "        <td id=\"T_f3f8a478_e202_11e8_8fa3_acb57d3c0dc9row3_col0\" class=\"data row3 col0\" >8</td> \n",
       "        <td id=\"T_f3f8a478_e202_11e8_8fa3_acb57d3c0dc9row3_col1\" class=\"data row3 col1\" >8.84</td> \n",
       "    </tr>    <tr> \n",
       "        <th id=\"T_f3f8a478_e202_11e8_8fa3_acb57d3c0dc9level0_row4\" class=\"row_heading level0 row4\" >37</th> \n",
       "        <td id=\"T_f3f8a478_e202_11e8_8fa3_acb57d3c0dc9row4_col0\" class=\"data row4 col0\" >8</td> \n",
       "        <td id=\"T_f3f8a478_e202_11e8_8fa3_acb57d3c0dc9row4_col1\" class=\"data row4 col1\" >8.47</td> \n",
       "    </tr>    <tr> \n",
       "        <th id=\"T_f3f8a478_e202_11e8_8fa3_acb57d3c0dc9level0_row5\" class=\"row_heading level0 row5\" >38</th> \n",
       "        <td id=\"T_f3f8a478_e202_11e8_8fa3_acb57d3c0dc9row5_col0\" class=\"data row5 col0\" >8</td> \n",
       "        <td id=\"T_f3f8a478_e202_11e8_8fa3_acb57d3c0dc9row5_col1\" class=\"data row5 col1\" >7.04</td> \n",
       "    </tr>    <tr> \n",
       "        <th id=\"T_f3f8a478_e202_11e8_8fa3_acb57d3c0dc9level0_row6\" class=\"row_heading level0 row6\" >39</th> \n",
       "        <td id=\"T_f3f8a478_e202_11e8_8fa3_acb57d3c0dc9row6_col0\" class=\"data row6 col0\" >8</td> \n",
       "        <td id=\"T_f3f8a478_e202_11e8_8fa3_acb57d3c0dc9row6_col1\" class=\"data row6 col1\" >5.25</td> \n",
       "    </tr>    <tr> \n",
       "        <th id=\"T_f3f8a478_e202_11e8_8fa3_acb57d3c0dc9level0_row7\" class=\"row_heading level0 row7\" >40</th> \n",
       "        <td id=\"T_f3f8a478_e202_11e8_8fa3_acb57d3c0dc9row7_col0\" class=\"data row7 col0\" >19</td> \n",
       "        <td id=\"T_f3f8a478_e202_11e8_8fa3_acb57d3c0dc9row7_col1\" class=\"data row7 col1\" >12.5</td> \n",
       "    </tr>    <tr> \n",
       "        <th id=\"T_f3f8a478_e202_11e8_8fa3_acb57d3c0dc9level0_row8\" class=\"row_heading level0 row8\" >41</th> \n",
       "        <td id=\"T_f3f8a478_e202_11e8_8fa3_acb57d3c0dc9row8_col0\" class=\"data row8 col0\" >8</td> \n",
       "        <td id=\"T_f3f8a478_e202_11e8_8fa3_acb57d3c0dc9row8_col1\" class=\"data row8 col1\" >5.56</td> \n",
       "    </tr>    <tr> \n",
       "        <th id=\"T_f3f8a478_e202_11e8_8fa3_acb57d3c0dc9level0_row9\" class=\"row_heading level0 row9\" >42</th> \n",
       "        <td id=\"T_f3f8a478_e202_11e8_8fa3_acb57d3c0dc9row9_col0\" class=\"data row9 col0\" >8</td> \n",
       "        <td id=\"T_f3f8a478_e202_11e8_8fa3_acb57d3c0dc9row9_col1\" class=\"data row9 col1\" >7.91</td> \n",
       "    </tr>    <tr> \n",
       "        <th id=\"T_f3f8a478_e202_11e8_8fa3_acb57d3c0dc9level0_row10\" class=\"row_heading level0 row10\" >43</th> \n",
       "        <td id=\"T_f3f8a478_e202_11e8_8fa3_acb57d3c0dc9row10_col0\" class=\"data row10 col0\" >8</td> \n",
       "        <td id=\"T_f3f8a478_e202_11e8_8fa3_acb57d3c0dc9row10_col1\" class=\"data row10 col1\" >6.89</td> \n",
       "    </tr></tbody> \n",
       "</table> "
      ]
     },
     "metadata": {},
     "output_type": "display_data"
    }
   ],
   "source": [
    "printmd(\"**Ascombe's Quartet**\")\n",
    "Q1_styler = Q1.style.set_table_attributes(\"style='display:inline'\").set_caption('Q 1')\n",
    "Q2_styler = Q2.style.set_table_attributes(\"style='display:inline'\").set_caption('Q 2')\n",
    "Q3_styler = Q3.style.set_table_attributes(\"style='display:inline'\").set_caption('Q 3')\n",
    "Q4_styler = Q4.style.set_table_attributes(\"style='display:inline'\").set_caption('Q 4')\n",
    "\n",
    "display_html(Q1_styler._repr_html_() + Q2_styler._repr_html_() + Q3_styler._repr_html_() + Q4_styler._repr_html_(), raw=True)\n"
   ]
  },
  {
   "cell_type": "code",
   "execution_count": 12,
   "metadata": {
    "scrolled": false
   },
   "outputs": [
    {
     "data": {
      "image/png": "[encoded data removed]",
      "text/plain": [
       "<Figure size 432x288 with 1 Axes>"
      ]
     },
     "metadata": {},
     "output_type": "display_data"
    }
   ],
   "source": [
    "sns.regplot(x=\"x\", y=\"y\", data=Q1)\n",
    "plt.show()"
   ]
  },
  {
   "cell_type": "code",
   "execution_count": 13,
   "metadata": {},
   "outputs": [
    {
     "data": {
      "image/png": "[encoded data removed]",
      "text/plain": [
       "<Figure size 432x288 with 1 Axes>"
      ]
     },
     "metadata": {},
     "output_type": "display_data"
    }
   ],
   "source": [
    "sns.regplot(x=\"x\", y=\"y\", data=Q2)\n",
    "plt.show()"
   ]
  },
  {
   "cell_type": "code",
   "execution_count": 14,
   "metadata": {},
   "outputs": [
    {
     "data": {
      "image/png": "[encoded data removed]",
      "text/plain": [
       "<Figure size 432x288 with 1 Axes>"
      ]
     },
     "metadata": {},
     "output_type": "display_data"
    }
   ],
   "source": [
    "sns.regplot(x=\"x\", y=\"y\", data=Q3)\n",
    "plt.show()"
   ]
  },
  {
   "cell_type": "code",
   "execution_count": 15,
   "metadata": {},
   "outputs": [
    {
     "data": {
      "image/png": "[encoded data removed]",
      "text/plain": [
       "<Figure size 432x288 with 1 Axes>"
      ]
     },
     "metadata": {},
     "output_type": "display_data"
    }
   ],
   "source": [
    "sns.regplot(x=\"x\", y=\"y\", data=Q4)\n",
    "plt.show()"
   ]
  },
  {
   "cell_type": "code",
   "execution_count": 28,
   "metadata": {},
   "outputs": [
    {
     "data": {
      "text/html": [
       "<style  type=\"text/css\" >\n",
       "</style>  \n",
       "<table id=\"T_948d1824_e1f8_11e8_8521_acb57d3c0dc9\" style='display:inline'><caption>Q 1</caption> \n",
       "<thead>    <tr> \n",
       "        <th class=\"blank level0\" ></th> \n",
       "        <th class=\"col_heading level0 col0\" >x</th> \n",
       "        <th class=\"col_heading level0 col1\" >y</th> \n",
       "    </tr></thead> \n",
       "<tbody>    <tr> \n",
       "        <th id=\"T_948d1824_e1f8_11e8_8521_acb57d3c0dc9level0_row0\" class=\"row_heading level0 row0\" >count</th> \n",
       "        <td id=\"T_948d1824_e1f8_11e8_8521_acb57d3c0dc9row0_col0\" class=\"data row0 col0\" >11</td> \n",
       "        <td id=\"T_948d1824_e1f8_11e8_8521_acb57d3c0dc9row0_col1\" class=\"data row0 col1\" >11</td> \n",
       "    </tr>    <tr> \n",
       "        <th id=\"T_948d1824_e1f8_11e8_8521_acb57d3c0dc9level0_row1\" class=\"row_heading level0 row1\" >mean</th> \n",
       "        <td id=\"T_948d1824_e1f8_11e8_8521_acb57d3c0dc9row1_col0\" class=\"data row1 col0\" >9</td> \n",
       "        <td id=\"T_948d1824_e1f8_11e8_8521_acb57d3c0dc9row1_col1\" class=\"data row1 col1\" >7.50091</td> \n",
       "    </tr>    <tr> \n",
       "        <th id=\"T_948d1824_e1f8_11e8_8521_acb57d3c0dc9level0_row2\" class=\"row_heading level0 row2\" >std</th> \n",
       "        <td id=\"T_948d1824_e1f8_11e8_8521_acb57d3c0dc9row2_col0\" class=\"data row2 col0\" >3.31662</td> \n",
       "        <td id=\"T_948d1824_e1f8_11e8_8521_acb57d3c0dc9row2_col1\" class=\"data row2 col1\" >2.03157</td> \n",
       "    </tr>    <tr> \n",
       "        <th id=\"T_948d1824_e1f8_11e8_8521_acb57d3c0dc9level0_row3\" class=\"row_heading level0 row3\" >min</th> \n",
       "        <td id=\"T_948d1824_e1f8_11e8_8521_acb57d3c0dc9row3_col0\" class=\"data row3 col0\" >4</td> \n",
       "        <td id=\"T_948d1824_e1f8_11e8_8521_acb57d3c0dc9row3_col1\" class=\"data row3 col1\" >4.26</td> \n",
       "    </tr>    <tr> \n",
       "        <th id=\"T_948d1824_e1f8_11e8_8521_acb57d3c0dc9level0_row4\" class=\"row_heading level0 row4\" >25%</th> \n",
       "        <td id=\"T_948d1824_e1f8_11e8_8521_acb57d3c0dc9row4_col0\" class=\"data row4 col0\" >6.5</td> \n",
       "        <td id=\"T_948d1824_e1f8_11e8_8521_acb57d3c0dc9row4_col1\" class=\"data row4 col1\" >6.315</td> \n",
       "    </tr>    <tr> \n",
       "        <th id=\"T_948d1824_e1f8_11e8_8521_acb57d3c0dc9level0_row5\" class=\"row_heading level0 row5\" >50%</th> \n",
       "        <td id=\"T_948d1824_e1f8_11e8_8521_acb57d3c0dc9row5_col0\" class=\"data row5 col0\" >9</td> \n",
       "        <td id=\"T_948d1824_e1f8_11e8_8521_acb57d3c0dc9row5_col1\" class=\"data row5 col1\" >7.58</td> \n",
       "    </tr>    <tr> \n",
       "        <th id=\"T_948d1824_e1f8_11e8_8521_acb57d3c0dc9level0_row6\" class=\"row_heading level0 row6\" >75%</th> \n",
       "        <td id=\"T_948d1824_e1f8_11e8_8521_acb57d3c0dc9row6_col0\" class=\"data row6 col0\" >11.5</td> \n",
       "        <td id=\"T_948d1824_e1f8_11e8_8521_acb57d3c0dc9row6_col1\" class=\"data row6 col1\" >8.57</td> \n",
       "    </tr>    <tr> \n",
       "        <th id=\"T_948d1824_e1f8_11e8_8521_acb57d3c0dc9level0_row7\" class=\"row_heading level0 row7\" >max</th> \n",
       "        <td id=\"T_948d1824_e1f8_11e8_8521_acb57d3c0dc9row7_col0\" class=\"data row7 col0\" >14</td> \n",
       "        <td id=\"T_948d1824_e1f8_11e8_8521_acb57d3c0dc9row7_col1\" class=\"data row7 col1\" >10.84</td> \n",
       "    </tr></tbody> \n",
       "</table> <style  type=\"text/css\" >\n",
       "</style>  \n",
       "<table id=\"T_948d8d36_e1f8_11e8_9dae_acb57d3c0dc9\" style='display:inline'><caption>Q 2</caption> \n",
       "<thead>    <tr> \n",
       "        <th class=\"blank level0\" ></th> \n",
       "        <th class=\"col_heading level0 col0\" >x</th> \n",
       "        <th class=\"col_heading level0 col1\" >y</th> \n",
       "    </tr></thead> \n",
       "<tbody>    <tr> \n",
       "        <th id=\"T_948d8d36_e1f8_11e8_9dae_acb57d3c0dc9level0_row0\" class=\"row_heading level0 row0\" >count</th> \n",
       "        <td id=\"T_948d8d36_e1f8_11e8_9dae_acb57d3c0dc9row0_col0\" class=\"data row0 col0\" >11</td> \n",
       "        <td id=\"T_948d8d36_e1f8_11e8_9dae_acb57d3c0dc9row0_col1\" class=\"data row0 col1\" >11</td> \n",
       "    </tr>    <tr> \n",
       "        <th id=\"T_948d8d36_e1f8_11e8_9dae_acb57d3c0dc9level0_row1\" class=\"row_heading level0 row1\" >mean</th> \n",
       "        <td id=\"T_948d8d36_e1f8_11e8_9dae_acb57d3c0dc9row1_col0\" class=\"data row1 col0\" >9</td> \n",
       "        <td id=\"T_948d8d36_e1f8_11e8_9dae_acb57d3c0dc9row1_col1\" class=\"data row1 col1\" >7.50091</td> \n",
       "    </tr>    <tr> \n",
       "        <th id=\"T_948d8d36_e1f8_11e8_9dae_acb57d3c0dc9level0_row2\" class=\"row_heading level0 row2\" >std</th> \n",
       "        <td id=\"T_948d8d36_e1f8_11e8_9dae_acb57d3c0dc9row2_col0\" class=\"data row2 col0\" >3.31662</td> \n",
       "        <td id=\"T_948d8d36_e1f8_11e8_9dae_acb57d3c0dc9row2_col1\" class=\"data row2 col1\" >2.03166</td> \n",
       "    </tr>    <tr> \n",
       "        <th id=\"T_948d8d36_e1f8_11e8_9dae_acb57d3c0dc9level0_row3\" class=\"row_heading level0 row3\" >min</th> \n",
       "        <td id=\"T_948d8d36_e1f8_11e8_9dae_acb57d3c0dc9row3_col0\" class=\"data row3 col0\" >4</td> \n",
       "        <td id=\"T_948d8d36_e1f8_11e8_9dae_acb57d3c0dc9row3_col1\" class=\"data row3 col1\" >3.1</td> \n",
       "    </tr>    <tr> \n",
       "        <th id=\"T_948d8d36_e1f8_11e8_9dae_acb57d3c0dc9level0_row4\" class=\"row_heading level0 row4\" >25%</th> \n",
       "        <td id=\"T_948d8d36_e1f8_11e8_9dae_acb57d3c0dc9row4_col0\" class=\"data row4 col0\" >6.5</td> \n",
       "        <td id=\"T_948d8d36_e1f8_11e8_9dae_acb57d3c0dc9row4_col1\" class=\"data row4 col1\" >6.695</td> \n",
       "    </tr>    <tr> \n",
       "        <th id=\"T_948d8d36_e1f8_11e8_9dae_acb57d3c0dc9level0_row5\" class=\"row_heading level0 row5\" >50%</th> \n",
       "        <td id=\"T_948d8d36_e1f8_11e8_9dae_acb57d3c0dc9row5_col0\" class=\"data row5 col0\" >9</td> \n",
       "        <td id=\"T_948d8d36_e1f8_11e8_9dae_acb57d3c0dc9row5_col1\" class=\"data row5 col1\" >8.14</td> \n",
       "    </tr>    <tr> \n",
       "        <th id=\"T_948d8d36_e1f8_11e8_9dae_acb57d3c0dc9level0_row6\" class=\"row_heading level0 row6\" >75%</th> \n",
       "        <td id=\"T_948d8d36_e1f8_11e8_9dae_acb57d3c0dc9row6_col0\" class=\"data row6 col0\" >11.5</td> \n",
       "        <td id=\"T_948d8d36_e1f8_11e8_9dae_acb57d3c0dc9row6_col1\" class=\"data row6 col1\" >8.95</td> \n",
       "    </tr>    <tr> \n",
       "        <th id=\"T_948d8d36_e1f8_11e8_9dae_acb57d3c0dc9level0_row7\" class=\"row_heading level0 row7\" >max</th> \n",
       "        <td id=\"T_948d8d36_e1f8_11e8_9dae_acb57d3c0dc9row7_col0\" class=\"data row7 col0\" >14</td> \n",
       "        <td id=\"T_948d8d36_e1f8_11e8_9dae_acb57d3c0dc9row7_col1\" class=\"data row7 col1\" >9.26</td> \n",
       "    </tr></tbody> \n",
       "</table> <style  type=\"text/css\" >\n",
       "</style>  \n",
       "<table id=\"T_948e0252_e1f8_11e8_ab00_acb57d3c0dc9\" style='display:inline'><caption>Q 3</caption> \n",
       "<thead>    <tr> \n",
       "        <th class=\"blank level0\" ></th> \n",
       "        <th class=\"col_heading level0 col0\" >x</th> \n",
       "        <th class=\"col_heading level0 col1\" >y</th> \n",
       "    </tr></thead> \n",
       "<tbody>    <tr> \n",
       "        <th id=\"T_948e0252_e1f8_11e8_ab00_acb57d3c0dc9level0_row0\" class=\"row_heading level0 row0\" >count</th> \n",
       "        <td id=\"T_948e0252_e1f8_11e8_ab00_acb57d3c0dc9row0_col0\" class=\"data row0 col0\" >11</td> \n",
       "        <td id=\"T_948e0252_e1f8_11e8_ab00_acb57d3c0dc9row0_col1\" class=\"data row0 col1\" >11</td> \n",
       "    </tr>    <tr> \n",
       "        <th id=\"T_948e0252_e1f8_11e8_ab00_acb57d3c0dc9level0_row1\" class=\"row_heading level0 row1\" >mean</th> \n",
       "        <td id=\"T_948e0252_e1f8_11e8_ab00_acb57d3c0dc9row1_col0\" class=\"data row1 col0\" >9</td> \n",
       "        <td id=\"T_948e0252_e1f8_11e8_ab00_acb57d3c0dc9row1_col1\" class=\"data row1 col1\" >7.5</td> \n",
       "    </tr>    <tr> \n",
       "        <th id=\"T_948e0252_e1f8_11e8_ab00_acb57d3c0dc9level0_row2\" class=\"row_heading level0 row2\" >std</th> \n",
       "        <td id=\"T_948e0252_e1f8_11e8_ab00_acb57d3c0dc9row2_col0\" class=\"data row2 col0\" >3.31662</td> \n",
       "        <td id=\"T_948e0252_e1f8_11e8_ab00_acb57d3c0dc9row2_col1\" class=\"data row2 col1\" >2.03042</td> \n",
       "    </tr>    <tr> \n",
       "        <th id=\"T_948e0252_e1f8_11e8_ab00_acb57d3c0dc9level0_row3\" class=\"row_heading level0 row3\" >min</th> \n",
       "        <td id=\"T_948e0252_e1f8_11e8_ab00_acb57d3c0dc9row3_col0\" class=\"data row3 col0\" >4</td> \n",
       "        <td id=\"T_948e0252_e1f8_11e8_ab00_acb57d3c0dc9row3_col1\" class=\"data row3 col1\" >5.39</td> \n",
       "    </tr>    <tr> \n",
       "        <th id=\"T_948e0252_e1f8_11e8_ab00_acb57d3c0dc9level0_row4\" class=\"row_heading level0 row4\" >25%</th> \n",
       "        <td id=\"T_948e0252_e1f8_11e8_ab00_acb57d3c0dc9row4_col0\" class=\"data row4 col0\" >6.5</td> \n",
       "        <td id=\"T_948e0252_e1f8_11e8_ab00_acb57d3c0dc9row4_col1\" class=\"data row4 col1\" >6.25</td> \n",
       "    </tr>    <tr> \n",
       "        <th id=\"T_948e0252_e1f8_11e8_ab00_acb57d3c0dc9level0_row5\" class=\"row_heading level0 row5\" >50%</th> \n",
       "        <td id=\"T_948e0252_e1f8_11e8_ab00_acb57d3c0dc9row5_col0\" class=\"data row5 col0\" >9</td> \n",
       "        <td id=\"T_948e0252_e1f8_11e8_ab00_acb57d3c0dc9row5_col1\" class=\"data row5 col1\" >7.11</td> \n",
       "    </tr>    <tr> \n",
       "        <th id=\"T_948e0252_e1f8_11e8_ab00_acb57d3c0dc9level0_row6\" class=\"row_heading level0 row6\" >75%</th> \n",
       "        <td id=\"T_948e0252_e1f8_11e8_ab00_acb57d3c0dc9row6_col0\" class=\"data row6 col0\" >11.5</td> \n",
       "        <td id=\"T_948e0252_e1f8_11e8_ab00_acb57d3c0dc9row6_col1\" class=\"data row6 col1\" >7.98</td> \n",
       "    </tr>    <tr> \n",
       "        <th id=\"T_948e0252_e1f8_11e8_ab00_acb57d3c0dc9level0_row7\" class=\"row_heading level0 row7\" >max</th> \n",
       "        <td id=\"T_948e0252_e1f8_11e8_ab00_acb57d3c0dc9row7_col0\" class=\"data row7 col0\" >14</td> \n",
       "        <td id=\"T_948e0252_e1f8_11e8_ab00_acb57d3c0dc9row7_col1\" class=\"data row7 col1\" >12.74</td> \n",
       "    </tr></tbody> \n",
       "</table> <style  type=\"text/css\" >\n",
       "</style>  \n",
       "<table id=\"T_948e7770_e1f8_11e8_b807_acb57d3c0dc9\" style='display:inline'><caption>Q 4</caption> \n",
       "<thead>    <tr> \n",
       "        <th class=\"blank level0\" ></th> \n",
       "        <th class=\"col_heading level0 col0\" >x</th> \n",
       "        <th class=\"col_heading level0 col1\" >y</th> \n",
       "    </tr></thead> \n",
       "<tbody>    <tr> \n",
       "        <th id=\"T_948e7770_e1f8_11e8_b807_acb57d3c0dc9level0_row0\" class=\"row_heading level0 row0\" >count</th> \n",
       "        <td id=\"T_948e7770_e1f8_11e8_b807_acb57d3c0dc9row0_col0\" class=\"data row0 col0\" >11</td> \n",
       "        <td id=\"T_948e7770_e1f8_11e8_b807_acb57d3c0dc9row0_col1\" class=\"data row0 col1\" >11</td> \n",
       "    </tr>    <tr> \n",
       "        <th id=\"T_948e7770_e1f8_11e8_b807_acb57d3c0dc9level0_row1\" class=\"row_heading level0 row1\" >mean</th> \n",
       "        <td id=\"T_948e7770_e1f8_11e8_b807_acb57d3c0dc9row1_col0\" class=\"data row1 col0\" >9</td> \n",
       "        <td id=\"T_948e7770_e1f8_11e8_b807_acb57d3c0dc9row1_col1\" class=\"data row1 col1\" >7.50091</td> \n",
       "    </tr>    <tr> \n",
       "        <th id=\"T_948e7770_e1f8_11e8_b807_acb57d3c0dc9level0_row2\" class=\"row_heading level0 row2\" >std</th> \n",
       "        <td id=\"T_948e7770_e1f8_11e8_b807_acb57d3c0dc9row2_col0\" class=\"data row2 col0\" >3.31662</td> \n",
       "        <td id=\"T_948e7770_e1f8_11e8_b807_acb57d3c0dc9row2_col1\" class=\"data row2 col1\" >2.03058</td> \n",
       "    </tr>    <tr> \n",
       "        <th id=\"T_948e7770_e1f8_11e8_b807_acb57d3c0dc9level0_row3\" class=\"row_heading level0 row3\" >min</th> \n",
       "        <td id=\"T_948e7770_e1f8_11e8_b807_acb57d3c0dc9row3_col0\" class=\"data row3 col0\" >8</td> \n",
       "        <td id=\"T_948e7770_e1f8_11e8_b807_acb57d3c0dc9row3_col1\" class=\"data row3 col1\" >5.25</td> \n",
       "    </tr>    <tr> \n",
       "        <th id=\"T_948e7770_e1f8_11e8_b807_acb57d3c0dc9level0_row4\" class=\"row_heading level0 row4\" >25%</th> \n",
       "        <td id=\"T_948e7770_e1f8_11e8_b807_acb57d3c0dc9row4_col0\" class=\"data row4 col0\" >8</td> \n",
       "        <td id=\"T_948e7770_e1f8_11e8_b807_acb57d3c0dc9row4_col1\" class=\"data row4 col1\" >6.17</td> \n",
       "    </tr>    <tr> \n",
       "        <th id=\"T_948e7770_e1f8_11e8_b807_acb57d3c0dc9level0_row5\" class=\"row_heading level0 row5\" >50%</th> \n",
       "        <td id=\"T_948e7770_e1f8_11e8_b807_acb57d3c0dc9row5_col0\" class=\"data row5 col0\" >8</td> \n",
       "        <td id=\"T_948e7770_e1f8_11e8_b807_acb57d3c0dc9row5_col1\" class=\"data row5 col1\" >7.04</td> \n",
       "    </tr>    <tr> \n",
       "        <th id=\"T_948e7770_e1f8_11e8_b807_acb57d3c0dc9level0_row6\" class=\"row_heading level0 row6\" >75%</th> \n",
       "        <td id=\"T_948e7770_e1f8_11e8_b807_acb57d3c0dc9row6_col0\" class=\"data row6 col0\" >8</td> \n",
       "        <td id=\"T_948e7770_e1f8_11e8_b807_acb57d3c0dc9row6_col1\" class=\"data row6 col1\" >8.19</td> \n",
       "    </tr>    <tr> \n",
       "        <th id=\"T_948e7770_e1f8_11e8_b807_acb57d3c0dc9level0_row7\" class=\"row_heading level0 row7\" >max</th> \n",
       "        <td id=\"T_948e7770_e1f8_11e8_b807_acb57d3c0dc9row7_col0\" class=\"data row7 col0\" >19</td> \n",
       "        <td id=\"T_948e7770_e1f8_11e8_b807_acb57d3c0dc9row7_col1\" class=\"data row7 col1\" >12.5</td> \n",
       "    </tr></tbody> \n",
       "</table> "
      ]
     },
     "metadata": {},
     "output_type": "display_data"
    }
   ],
   "source": [
    "Q1_describe = Q1.describe() \n",
    "Q2_describe = Q2.describe() \n",
    "Q3_describe = Q3.describe() \n",
    "Q4_describe = Q4.describe() \n",
    "\n",
    "Q1_styler = Q1_describe.style.set_table_attributes(\"style='display:inline'\").set_caption('Q 1')\n",
    "Q2_styler = Q2_describe.style.set_table_attributes(\"style='display:inline'\").set_caption('Q 2')\n",
    "Q3_styler = Q3_describe.style.set_table_attributes(\"style='display:inline'\").set_caption('Q 3')\n",
    "Q4_styler = Q4_describe.style.set_table_attributes(\"style='display:inline'\").set_caption('Q 4')\n",
    "\n",
    "display_html(Q1_styler._repr_html_() + Q2_styler._repr_html_()+Q3_styler._repr_html_()+Q4_styler._repr_html_(), raw=True)\n",
    "\n",
    "# https://stackoverflow.com/questions/38783027/jupyter-notebook-display-two-pandas-tables-side-by-side\n"
   ]
  },
  {
   "cell_type": "code",
   "execution_count": null,
   "metadata": {},
   "outputs": [],
   "source": []
  },
  {
   "cell_type": "code",
   "execution_count": 72,
   "metadata": {},
   "outputs": [
    {
     "data": {
      "text/html": [
       "<style  type=\"text/css\" >\n",
       "</style>  \n",
       "<table id=\"T_7e41c9a2_e201_11e8_9f56_acb57d3c0dc9\" style='display:inline'> \n",
       "<thead>    <tr> \n",
       "        <th class=\"blank level0\" ></th> \n",
       "        <th class=\"col_heading level0 col0\" >Q 1</th> \n",
       "    </tr></thead> \n",
       "<tbody>    <tr> \n",
       "        <th id=\"T_7e41c9a2_e201_11e8_9f56_acb57d3c0dc9level0_row0\" class=\"row_heading level0 row0\" >x</th> \n",
       "        <td id=\"T_7e41c9a2_e201_11e8_9f56_acb57d3c0dc9row0_col0\" class=\"data row0 col0\" >11</td> \n",
       "    </tr>    <tr> \n",
       "        <th id=\"T_7e41c9a2_e201_11e8_9f56_acb57d3c0dc9level0_row1\" class=\"row_heading level0 row1\" >y</th> \n",
       "        <td id=\"T_7e41c9a2_e201_11e8_9f56_acb57d3c0dc9row1_col0\" class=\"data row1 col0\" >4.12727</td> \n",
       "    </tr></tbody> \n",
       "</table> <style  type=\"text/css\" >\n",
       "</style>  \n",
       "<table id=\"T_7e426682_e201_11e8_89ed_acb57d3c0dc9\" style='display:inline'> \n",
       "<thead>    <tr> \n",
       "        <th class=\"blank level0\" ></th> \n",
       "        <th class=\"col_heading level0 col0\" >Q 2</th> \n",
       "    </tr></thead> \n",
       "<tbody>    <tr> \n",
       "        <th id=\"T_7e426682_e201_11e8_89ed_acb57d3c0dc9level0_row0\" class=\"row_heading level0 row0\" >x</th> \n",
       "        <td id=\"T_7e426682_e201_11e8_89ed_acb57d3c0dc9row0_col0\" class=\"data row0 col0\" >11</td> \n",
       "    </tr>    <tr> \n",
       "        <th id=\"T_7e426682_e201_11e8_89ed_acb57d3c0dc9level0_row1\" class=\"row_heading level0 row1\" >y</th> \n",
       "        <td id=\"T_7e426682_e201_11e8_89ed_acb57d3c0dc9row1_col0\" class=\"data row1 col0\" >4.12763</td> \n",
       "    </tr></tbody> \n",
       "</table> <style  type=\"text/css\" >\n",
       "</style>  \n",
       "<table id=\"T_7e426683_e201_11e8_9265_acb57d3c0dc9\" style='display:inline'> \n",
       "<thead>    <tr> \n",
       "        <th class=\"blank level0\" ></th> \n",
       "        <th class=\"col_heading level0 col0\" >Q 3</th> \n",
       "    </tr></thead> \n",
       "<tbody>    <tr> \n",
       "        <th id=\"T_7e426683_e201_11e8_9265_acb57d3c0dc9level0_row0\" class=\"row_heading level0 row0\" >x</th> \n",
       "        <td id=\"T_7e426683_e201_11e8_9265_acb57d3c0dc9row0_col0\" class=\"data row0 col0\" >11</td> \n",
       "    </tr>    <tr> \n",
       "        <th id=\"T_7e426683_e201_11e8_9265_acb57d3c0dc9level0_row1\" class=\"row_heading level0 row1\" >y</th> \n",
       "        <td id=\"T_7e426683_e201_11e8_9265_acb57d3c0dc9row1_col0\" class=\"data row1 col0\" >4.12262</td> \n",
       "    </tr></tbody> \n",
       "</table> <style  type=\"text/css\" >\n",
       "</style>  \n",
       "<table id=\"T_7e426684_e201_11e8_90fa_acb57d3c0dc9\" style='display:inline'> \n",
       "<thead>    <tr> \n",
       "        <th class=\"blank level0\" ></th> \n",
       "        <th class=\"col_heading level0 col0\" >Q 4</th> \n",
       "    </tr></thead> \n",
       "<tbody>    <tr> \n",
       "        <th id=\"T_7e426684_e201_11e8_90fa_acb57d3c0dc9level0_row0\" class=\"row_heading level0 row0\" >x</th> \n",
       "        <td id=\"T_7e426684_e201_11e8_90fa_acb57d3c0dc9row0_col0\" class=\"data row0 col0\" >11</td> \n",
       "    </tr>    <tr> \n",
       "        <th id=\"T_7e426684_e201_11e8_90fa_acb57d3c0dc9level0_row1\" class=\"row_heading level0 row1\" >y</th> \n",
       "        <td id=\"T_7e426684_e201_11e8_90fa_acb57d3c0dc9row1_col0\" class=\"data row1 col0\" >4.12325</td> \n",
       "    </tr></tbody> \n",
       "</table> "
      ]
     },
     "metadata": {},
     "output_type": "display_data"
    }
   ],
   "source": [
    "Q1_var = Q1.var() \n",
    "Q1_var_table = pd.DataFrame(Q1_var, columns=[\"Q 1\"])\n",
    "\n",
    "Q2_var = Q2.var() \n",
    "Q2_var_table = pd.DataFrame(Q2_var, columns=[\"Q 2\"])\n",
    "\n",
    "Q3_var = Q3.var() \n",
    "Q3_var_table = pd.DataFrame(Q3_var, columns=[\"Q 3\"])\n",
    "\n",
    "Q4_var = Q4.var() \n",
    "Q4_var_table = pd.DataFrame(Q4_var, columns=[\"Q 4\"])\n",
    "\n",
    "Q1_styler_var = Q1_var_table.style.set_table_attributes(\"style='display:inline'\")\n",
    "Q2_styler_var = Q2_var_table.style.set_table_attributes(\"style='display:inline'\")\n",
    "Q3_styler_var = Q3_var_table.style.set_table_attributes(\"style='display:inline'\")\n",
    "Q4_styler_var = Q4_var_table.style.set_table_attributes(\"style='display:inline'\")\n",
    "\n",
    "display_html(Q1_styler_var._repr_html_() + Q2_styler_var._repr_html_()+Q3_styler_var._repr_html_()+Q4_styler_var._repr_html_(), raw=True)\n",
    "# https://stackoverflow.com/questions/35160256/how-do-i-output-lists-as-a-table-in-jupyter-notebook"
   ]
  },
  {
   "cell_type": "code",
   "execution_count": 18,
   "metadata": {},
   "outputs": [
    {
     "data": {
      "text/plain": [
       "3.3166247903554"
      ]
     },
     "execution_count": 18,
     "metadata": {},
     "output_type": "execute_result"
    }
   ],
   "source": [
    "np.sqrt(Q1_var[\"x\"])"
   ]
  },
  {
   "cell_type": "code",
   "execution_count": null,
   "metadata": {},
   "outputs": [],
   "source": []
  },
  {
   "cell_type": "code",
   "execution_count": null,
   "metadata": {},
   "outputs": [],
   "source": []
  },
  {
   "cell_type": "code",
   "execution_count": null,
   "metadata": {},
   "outputs": [],
   "source": []
  },
  {
   "cell_type": "code",
   "execution_count": null,
   "metadata": {},
   "outputs": [],
   "source": []
  },
  {
   "cell_type": "code",
   "execution_count": null,
   "metadata": {},
   "outputs": [],
   "source": []
  }
 ],
 "metadata": {
  "kernelspec": {
   "display_name": "Python 3",
   "language": "python",
   "name": "python3"
  },
  "language_info": {
   "codemirror_mode": {
    "name": "ipython",
    "version": 3
   },
   "file_extension": ".py",
   "mimetype": "text/x-python",
   "name": "python",
   "nbconvert_exporter": "python",
   "pygments_lexer": "ipython3",
   "version": "3.6.5"
  }
 },
 "nbformat": 4,
 "nbformat_minor": 2
}
