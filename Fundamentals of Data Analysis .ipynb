{
 "cells": [
  {
   "cell_type": "markdown",
   "metadata": {},
   "source": [
    "# Assignment 2018 - Fundamentals of Data Analysis"
   ]
  },
  {
   "cell_type": "markdown",
   "metadata": {},
   "source": [
    "The Anscombe's is a famous dataset in data analysis for demonstrating the importance of visually inspecting data before performing statistical tests.\n",
    "\n",
    "In this assignment, i will cover the following four questions: \n",
    "\n",
    "- I will look at the **background of the dataset**.\n",
    "- The **descriptive statistics** of the dataset will be presented using numpy and pandas.\n",
    "- The data will be **plotted** using Seaborn\n",
    "- I will investigate the **contrast** between the descriptive statistics and the plots."
   ]
  },
  {
   "cell_type": "markdown",
   "metadata": {},
   "source": [
    "## 1. Background to the Dataset"
   ]
  },
  {
   "cell_type": "markdown",
   "metadata": {},
   "source": [
    "Anscombe's Quartet contains four distinct bivariate datasets. Each dataset contains two variables X and Y with 11 datapoints each. The Quartet was created by the English Statistician Frank Anscombe in 1973 [1].\n",
    "\n",
    "Anscombe did not explain how he created the dataset and it is not known to this day how it was generated [2], however several methods have been formulated since to create datasets with similar characteristics [3]. Chatterjee and Firat (2009) used a genetic algorithm to create similar datasets [4]. A genetic algorithm randomly **selects** parents from a population (of datasets in this instance). The parents are **combined** to create children. Random **mutations** are applied during the process [5]. The process repeats and, over time, the population is optimised for a particular purpose.  \n",
    "\n",
    "Anscombe create the datasets to demonstrate the importance visualising data before performing statistical tests. He also created them to demonstrate the effect that outliers can have on statistical tests [6]. \n",
    "\n",
    "As we will see, the descriptive statistics of the datasets are very similar, however, once visualised they look different and the statistics are misleading. \n",
    "\n",
    "[\\[1\\]](https://www.tandfonline.com/doi/abs/10.1080/00031305.1973.10478966)\n",
    "[\\[2\\]](https://dl.acm.org/citation.cfm?id=3025912)\n",
    "[\\[3\\]](https://dl.acm.org/citation.cfm?id=2655780.2655876)\n",
    "[\\[4\\]](https://www.jstor.org/stable/27643902?seq=1#page_scan_tab_contents)\n",
    "[\\[5\\]](https://www.mathworks.com/help/gads/what-is-the-genetic-algorithm.html)\n",
    "[\\[6\\]](https://astro.swarthmore.edu/astro121/anscombe.html)"
   ]
  },
  {
   "cell_type": "markdown",
   "metadata": {},
   "source": [
    "We will now quickly examine three characteristics that may distort descriptive and inferential statistics of a dataset. All three can be observed when visualising the dataset: \n",
    "\n",
    "\n",
    "- **Skewness**\n",
    "- **Outliers**\n",
    "- **Correlation does not imply causation**\n",
    "\n"
   ]
  },
  {
   "cell_type": "markdown",
   "metadata": {},
   "source": [
    "### Skewness of Data\n",
    "\n",
    "\n",
    "A distribution of data is a graphical representation of the frequency of values in a dataset. A normal distribution is a symmetrically shaped distribution and has the same mean, median and mode. \n",
    "\n",
    "![Normal Distribution](http://my.ilstu.edu/~gjin/hsc204-eh/Module-5-Summary-Measure-2/averages-for-symmetrical-distribution.jpg \"Normal Distribution\")\n",
    "\n",
    "A skewed distribution is formed when the data tends to cluster on one extreme of the data set. In a right skewed or positive positive skewed distribution, the data is bunched on the left, forming a peak and then a long tail on the right. The mean tends to be larger than the median in a positive skew [1].\n",
    "\n",
    "![Positive Skewed Distribution](http://davidmlane.com/hyperstat/pictures/positive_skew.gif \"Positive Skewed Distribution\")\n",
    "\n",
    "A negative skewed distribution has a long tail to the left and is bunched on the right-hand side of the histogram.\n",
    "\n",
    "![Negative Skewed Distribution](http://davidmlane.com/hyperstat/pictures/negative_skew.gif \"Negative Skewed Distribution\")\n",
    "\n",
    "A skewed distribution may indicate that summary statistics are varied and, therefore, not as accurate at genuinely representing the dataset (though, as we will see in the Anscombe dataset, the mean and median may be similar in a skewed dataset). \n",
    "\n",
    "Many inferential statistical tests assume that the data is normally distribution. \n",
    "\n",
    "[\\[1\\]](https://www.mathsisfun.com/data/skewness.html)\n"
   ]
  },
  {
   "cell_type": "markdown",
   "metadata": {},
   "source": [
    "### Outliers\n",
    "\n",
    "An outlier is a datapoint that is abnormally distant from the other data in the dataset. It is so different that it may be a   misrecording or an error in calculation.\n",
    "\n",
    "![Outlier](http://www-ist.massey.ac.nz/dstirlin/CAST/CAST/HdisplayInterp/images/outlierSymmetric.gif \"Outlier\")\n",
    "\n",
    "Outliers can severely compromise summary descriptives (the mean is particularly sensitive to outliers) and can also impair correlation and linear regression analysis. \n",
    "\n",
    "[\\[1\\]](https://www.itl.nist.gov/div898/handbook/prc/section1/prc16.htm)\n"
   ]
  },
  {
   "cell_type": "markdown",
   "metadata": {},
   "source": [
    "### Correlation does not imply causation\n",
    "\n",
    "Firstly, a statistically significant correlation or linear regression finding does not imply that there is an actually linear relationship between two variables. \n",
    "\n",
    "![Pirates](http://i.stack.imgur.com/bDhy4.jpg \"Pirates\")\n",
    "\n",
    "The above plot purports to show a positive linear relationship between global temperatures and the global pirate population. Evidence for a correlation has to come from outside the statistical test itself. \n",
    "\n",
    "Following on from this, one should always look at a plot of the data before performing a correlation or linear regression. These tests could be significant (due to outliers, for example), even if a visualisation of the data clearly shows no positive linear relationship. \n",
    "\n",
    "[\\[1\\]](https://www.forbes.com/sites/erikaandersen/2012/03/23/true-fact-the-lack-of-pirates-is-causing-global-warming/#7759d22d3a67)\n",
    "\n",
    "As we examine the dataset, we will try to look for outliers, skewness and incorrect correlation and linear analysis."
   ]
  },
  {
   "cell_type": "markdown",
   "metadata": {},
   "source": [
    "## 2. Descriptive Statistics\n",
    "\n",
    "In this section i will layout the descriptive statistics of the Anscombe's quartet using Numpy and Pandas. \n",
    "\n",
    "Firstly, in the next cell i will import the various packages/modules i will use in this investigation, including pandas and numpy."
   ]
  },
  {
   "cell_type": "markdown",
   "metadata": {},
   "source": []
  },
  {
   "cell_type": "code",
   "execution_count": 11,
   "metadata": {},
   "outputs": [],
   "source": [
    "import seaborn as sns # plotting software\n",
    "import numpy as np \n",
    "import matplotlib.pyplot as plt\n",
    "from numpy import median, mean, var, std # modules for \n",
    "import pandas as pd\n",
    "from IPython.display import display_html, Markdown, display # These modules make it easier to display tables and \n",
    "                                                            # plots in jupyter notebook \n"
   ]
  },
  {
   "cell_type": "code",
   "execution_count": 12,
   "metadata": {},
   "outputs": [],
   "source": [
    "def printmd(string): # This function allows you to use markdown in output cells, taken from: https://stackoverflow.com/questions/32026727/format-output-of-code-cell-with-markdown\n",
    "    display(Markdown(string))"
   ]
  },
  {
   "cell_type": "code",
   "execution_count": 13,
   "metadata": {},
   "outputs": [],
   "source": [
    "df = sns.load_dataset(\"anscombe\") # The Anscombe's Quartet is loaded through seaborn and transformed into a Pandas Dataframe  ."
   ]
  },
  {
   "cell_type": "code",
   "execution_count": 14,
   "metadata": {},
   "outputs": [],
   "source": [
    "Q1 = df.loc[df['dataset'] == 'I'] # The four datasets are transformed into their own dataframe\n",
    "Q2 = df.loc[df['dataset'] == 'II']\n",
    "Q3 = df.loc[df['dataset'] == 'III']\n",
    "Q4 = df.loc[df['dataset'] == 'IV']"
   ]
  },
  {
   "cell_type": "code",
   "execution_count": 15,
   "metadata": {},
   "outputs": [],
   "source": [
    "Q1=Q1.drop('dataset',1) # The 'datset' column is removed from each of the datasets. \n",
    "Q2=Q2.drop('dataset',1)\n",
    "Q3=Q3.drop('dataset',1)\n",
    "Q4=Q4.drop('dataset',1)"
   ]
  },
  {
   "cell_type": "code",
   "execution_count": 16,
   "metadata": {
    "scrolled": true
   },
   "outputs": [
    {
     "data": {
      "text/markdown": [
       "**Ascombe's Quartet**"
      ],
      "text/plain": [
       "<IPython.core.display.Markdown object>"
      ]
     },
     "metadata": {},
     "output_type": "display_data"
    },
    {
     "data": {
      "text/html": [
       "<style  type=\"text/css\" >\n",
       "</style>  \n",
       "<table id=\"T_3746ade8_e5ff_11e8_a676_acb57d3c0dc9\" style='display:inline'><caption>Q 1</caption> \n",
       "<thead>    <tr> \n",
       "        <th class=\"blank level0\" ></th> \n",
       "        <th class=\"col_heading level0 col0\" >x</th> \n",
       "        <th class=\"col_heading level0 col1\" >y</th> \n",
       "    </tr></thead> \n",
       "<tbody>    <tr> \n",
       "        <th id=\"T_3746ade8_e5ff_11e8_a676_acb57d3c0dc9level0_row0\" class=\"row_heading level0 row0\" >0</th> \n",
       "        <td id=\"T_3746ade8_e5ff_11e8_a676_acb57d3c0dc9row0_col0\" class=\"data row0 col0\" >10</td> \n",
       "        <td id=\"T_3746ade8_e5ff_11e8_a676_acb57d3c0dc9row0_col1\" class=\"data row0 col1\" >8.04</td> \n",
       "    </tr>    <tr> \n",
       "        <th id=\"T_3746ade8_e5ff_11e8_a676_acb57d3c0dc9level0_row1\" class=\"row_heading level0 row1\" >1</th> \n",
       "        <td id=\"T_3746ade8_e5ff_11e8_a676_acb57d3c0dc9row1_col0\" class=\"data row1 col0\" >8</td> \n",
       "        <td id=\"T_3746ade8_e5ff_11e8_a676_acb57d3c0dc9row1_col1\" class=\"data row1 col1\" >6.95</td> \n",
       "    </tr>    <tr> \n",
       "        <th id=\"T_3746ade8_e5ff_11e8_a676_acb57d3c0dc9level0_row2\" class=\"row_heading level0 row2\" >2</th> \n",
       "        <td id=\"T_3746ade8_e5ff_11e8_a676_acb57d3c0dc9row2_col0\" class=\"data row2 col0\" >13</td> \n",
       "        <td id=\"T_3746ade8_e5ff_11e8_a676_acb57d3c0dc9row2_col1\" class=\"data row2 col1\" >7.58</td> \n",
       "    </tr>    <tr> \n",
       "        <th id=\"T_3746ade8_e5ff_11e8_a676_acb57d3c0dc9level0_row3\" class=\"row_heading level0 row3\" >3</th> \n",
       "        <td id=\"T_3746ade8_e5ff_11e8_a676_acb57d3c0dc9row3_col0\" class=\"data row3 col0\" >9</td> \n",
       "        <td id=\"T_3746ade8_e5ff_11e8_a676_acb57d3c0dc9row3_col1\" class=\"data row3 col1\" >8.81</td> \n",
       "    </tr>    <tr> \n",
       "        <th id=\"T_3746ade8_e5ff_11e8_a676_acb57d3c0dc9level0_row4\" class=\"row_heading level0 row4\" >4</th> \n",
       "        <td id=\"T_3746ade8_e5ff_11e8_a676_acb57d3c0dc9row4_col0\" class=\"data row4 col0\" >11</td> \n",
       "        <td id=\"T_3746ade8_e5ff_11e8_a676_acb57d3c0dc9row4_col1\" class=\"data row4 col1\" >8.33</td> \n",
       "    </tr>    <tr> \n",
       "        <th id=\"T_3746ade8_e5ff_11e8_a676_acb57d3c0dc9level0_row5\" class=\"row_heading level0 row5\" >5</th> \n",
       "        <td id=\"T_3746ade8_e5ff_11e8_a676_acb57d3c0dc9row5_col0\" class=\"data row5 col0\" >14</td> \n",
       "        <td id=\"T_3746ade8_e5ff_11e8_a676_acb57d3c0dc9row5_col1\" class=\"data row5 col1\" >9.96</td> \n",
       "    </tr>    <tr> \n",
       "        <th id=\"T_3746ade8_e5ff_11e8_a676_acb57d3c0dc9level0_row6\" class=\"row_heading level0 row6\" >6</th> \n",
       "        <td id=\"T_3746ade8_e5ff_11e8_a676_acb57d3c0dc9row6_col0\" class=\"data row6 col0\" >6</td> \n",
       "        <td id=\"T_3746ade8_e5ff_11e8_a676_acb57d3c0dc9row6_col1\" class=\"data row6 col1\" >7.24</td> \n",
       "    </tr>    <tr> \n",
       "        <th id=\"T_3746ade8_e5ff_11e8_a676_acb57d3c0dc9level0_row7\" class=\"row_heading level0 row7\" >7</th> \n",
       "        <td id=\"T_3746ade8_e5ff_11e8_a676_acb57d3c0dc9row7_col0\" class=\"data row7 col0\" >4</td> \n",
       "        <td id=\"T_3746ade8_e5ff_11e8_a676_acb57d3c0dc9row7_col1\" class=\"data row7 col1\" >4.26</td> \n",
       "    </tr>    <tr> \n",
       "        <th id=\"T_3746ade8_e5ff_11e8_a676_acb57d3c0dc9level0_row8\" class=\"row_heading level0 row8\" >8</th> \n",
       "        <td id=\"T_3746ade8_e5ff_11e8_a676_acb57d3c0dc9row8_col0\" class=\"data row8 col0\" >12</td> \n",
       "        <td id=\"T_3746ade8_e5ff_11e8_a676_acb57d3c0dc9row8_col1\" class=\"data row8 col1\" >10.84</td> \n",
       "    </tr>    <tr> \n",
       "        <th id=\"T_3746ade8_e5ff_11e8_a676_acb57d3c0dc9level0_row9\" class=\"row_heading level0 row9\" >9</th> \n",
       "        <td id=\"T_3746ade8_e5ff_11e8_a676_acb57d3c0dc9row9_col0\" class=\"data row9 col0\" >7</td> \n",
       "        <td id=\"T_3746ade8_e5ff_11e8_a676_acb57d3c0dc9row9_col1\" class=\"data row9 col1\" >4.82</td> \n",
       "    </tr>    <tr> \n",
       "        <th id=\"T_3746ade8_e5ff_11e8_a676_acb57d3c0dc9level0_row10\" class=\"row_heading level0 row10\" >10</th> \n",
       "        <td id=\"T_3746ade8_e5ff_11e8_a676_acb57d3c0dc9row10_col0\" class=\"data row10 col0\" >5</td> \n",
       "        <td id=\"T_3746ade8_e5ff_11e8_a676_acb57d3c0dc9row10_col1\" class=\"data row10 col1\" >5.68</td> \n",
       "    </tr></tbody> \n",
       "</table> <style  type=\"text/css\" >\n",
       "</style>  \n",
       "<table id=\"T_3746ade9_e5ff_11e8_a320_acb57d3c0dc9\" style='display:inline'><caption>Q 2</caption> \n",
       "<thead>    <tr> \n",
       "        <th class=\"blank level0\" ></th> \n",
       "        <th class=\"col_heading level0 col0\" >x</th> \n",
       "        <th class=\"col_heading level0 col1\" >y</th> \n",
       "    </tr></thead> \n",
       "<tbody>    <tr> \n",
       "        <th id=\"T_3746ade9_e5ff_11e8_a320_acb57d3c0dc9level0_row0\" class=\"row_heading level0 row0\" >11</th> \n",
       "        <td id=\"T_3746ade9_e5ff_11e8_a320_acb57d3c0dc9row0_col0\" class=\"data row0 col0\" >10</td> \n",
       "        <td id=\"T_3746ade9_e5ff_11e8_a320_acb57d3c0dc9row0_col1\" class=\"data row0 col1\" >9.14</td> \n",
       "    </tr>    <tr> \n",
       "        <th id=\"T_3746ade9_e5ff_11e8_a320_acb57d3c0dc9level0_row1\" class=\"row_heading level0 row1\" >12</th> \n",
       "        <td id=\"T_3746ade9_e5ff_11e8_a320_acb57d3c0dc9row1_col0\" class=\"data row1 col0\" >8</td> \n",
       "        <td id=\"T_3746ade9_e5ff_11e8_a320_acb57d3c0dc9row1_col1\" class=\"data row1 col1\" >8.14</td> \n",
       "    </tr>    <tr> \n",
       "        <th id=\"T_3746ade9_e5ff_11e8_a320_acb57d3c0dc9level0_row2\" class=\"row_heading level0 row2\" >13</th> \n",
       "        <td id=\"T_3746ade9_e5ff_11e8_a320_acb57d3c0dc9row2_col0\" class=\"data row2 col0\" >13</td> \n",
       "        <td id=\"T_3746ade9_e5ff_11e8_a320_acb57d3c0dc9row2_col1\" class=\"data row2 col1\" >8.74</td> \n",
       "    </tr>    <tr> \n",
       "        <th id=\"T_3746ade9_e5ff_11e8_a320_acb57d3c0dc9level0_row3\" class=\"row_heading level0 row3\" >14</th> \n",
       "        <td id=\"T_3746ade9_e5ff_11e8_a320_acb57d3c0dc9row3_col0\" class=\"data row3 col0\" >9</td> \n",
       "        <td id=\"T_3746ade9_e5ff_11e8_a320_acb57d3c0dc9row3_col1\" class=\"data row3 col1\" >8.77</td> \n",
       "    </tr>    <tr> \n",
       "        <th id=\"T_3746ade9_e5ff_11e8_a320_acb57d3c0dc9level0_row4\" class=\"row_heading level0 row4\" >15</th> \n",
       "        <td id=\"T_3746ade9_e5ff_11e8_a320_acb57d3c0dc9row4_col0\" class=\"data row4 col0\" >11</td> \n",
       "        <td id=\"T_3746ade9_e5ff_11e8_a320_acb57d3c0dc9row4_col1\" class=\"data row4 col1\" >9.26</td> \n",
       "    </tr>    <tr> \n",
       "        <th id=\"T_3746ade9_e5ff_11e8_a320_acb57d3c0dc9level0_row5\" class=\"row_heading level0 row5\" >16</th> \n",
       "        <td id=\"T_3746ade9_e5ff_11e8_a320_acb57d3c0dc9row5_col0\" class=\"data row5 col0\" >14</td> \n",
       "        <td id=\"T_3746ade9_e5ff_11e8_a320_acb57d3c0dc9row5_col1\" class=\"data row5 col1\" >8.1</td> \n",
       "    </tr>    <tr> \n",
       "        <th id=\"T_3746ade9_e5ff_11e8_a320_acb57d3c0dc9level0_row6\" class=\"row_heading level0 row6\" >17</th> \n",
       "        <td id=\"T_3746ade9_e5ff_11e8_a320_acb57d3c0dc9row6_col0\" class=\"data row6 col0\" >6</td> \n",
       "        <td id=\"T_3746ade9_e5ff_11e8_a320_acb57d3c0dc9row6_col1\" class=\"data row6 col1\" >6.13</td> \n",
       "    </tr>    <tr> \n",
       "        <th id=\"T_3746ade9_e5ff_11e8_a320_acb57d3c0dc9level0_row7\" class=\"row_heading level0 row7\" >18</th> \n",
       "        <td id=\"T_3746ade9_e5ff_11e8_a320_acb57d3c0dc9row7_col0\" class=\"data row7 col0\" >4</td> \n",
       "        <td id=\"T_3746ade9_e5ff_11e8_a320_acb57d3c0dc9row7_col1\" class=\"data row7 col1\" >3.1</td> \n",
       "    </tr>    <tr> \n",
       "        <th id=\"T_3746ade9_e5ff_11e8_a320_acb57d3c0dc9level0_row8\" class=\"row_heading level0 row8\" >19</th> \n",
       "        <td id=\"T_3746ade9_e5ff_11e8_a320_acb57d3c0dc9row8_col0\" class=\"data row8 col0\" >12</td> \n",
       "        <td id=\"T_3746ade9_e5ff_11e8_a320_acb57d3c0dc9row8_col1\" class=\"data row8 col1\" >9.13</td> \n",
       "    </tr>    <tr> \n",
       "        <th id=\"T_3746ade9_e5ff_11e8_a320_acb57d3c0dc9level0_row9\" class=\"row_heading level0 row9\" >20</th> \n",
       "        <td id=\"T_3746ade9_e5ff_11e8_a320_acb57d3c0dc9row9_col0\" class=\"data row9 col0\" >7</td> \n",
       "        <td id=\"T_3746ade9_e5ff_11e8_a320_acb57d3c0dc9row9_col1\" class=\"data row9 col1\" >7.26</td> \n",
       "    </tr>    <tr> \n",
       "        <th id=\"T_3746ade9_e5ff_11e8_a320_acb57d3c0dc9level0_row10\" class=\"row_heading level0 row10\" >21</th> \n",
       "        <td id=\"T_3746ade9_e5ff_11e8_a320_acb57d3c0dc9row10_col0\" class=\"data row10 col0\" >5</td> \n",
       "        <td id=\"T_3746ade9_e5ff_11e8_a320_acb57d3c0dc9row10_col1\" class=\"data row10 col1\" >4.74</td> \n",
       "    </tr></tbody> \n",
       "</table> <style  type=\"text/css\" >\n",
       "</style>  \n",
       "<table id=\"T_374910d2_e5ff_11e8_9b87_acb57d3c0dc9\" style='display:inline'><caption>Q 3</caption> \n",
       "<thead>    <tr> \n",
       "        <th class=\"blank level0\" ></th> \n",
       "        <th class=\"col_heading level0 col0\" >x</th> \n",
       "        <th class=\"col_heading level0 col1\" >y</th> \n",
       "    </tr></thead> \n",
       "<tbody>    <tr> \n",
       "        <th id=\"T_374910d2_e5ff_11e8_9b87_acb57d3c0dc9level0_row0\" class=\"row_heading level0 row0\" >22</th> \n",
       "        <td id=\"T_374910d2_e5ff_11e8_9b87_acb57d3c0dc9row0_col0\" class=\"data row0 col0\" >10</td> \n",
       "        <td id=\"T_374910d2_e5ff_11e8_9b87_acb57d3c0dc9row0_col1\" class=\"data row0 col1\" >7.46</td> \n",
       "    </tr>    <tr> \n",
       "        <th id=\"T_374910d2_e5ff_11e8_9b87_acb57d3c0dc9level0_row1\" class=\"row_heading level0 row1\" >23</th> \n",
       "        <td id=\"T_374910d2_e5ff_11e8_9b87_acb57d3c0dc9row1_col0\" class=\"data row1 col0\" >8</td> \n",
       "        <td id=\"T_374910d2_e5ff_11e8_9b87_acb57d3c0dc9row1_col1\" class=\"data row1 col1\" >6.77</td> \n",
       "    </tr>    <tr> \n",
       "        <th id=\"T_374910d2_e5ff_11e8_9b87_acb57d3c0dc9level0_row2\" class=\"row_heading level0 row2\" >24</th> \n",
       "        <td id=\"T_374910d2_e5ff_11e8_9b87_acb57d3c0dc9row2_col0\" class=\"data row2 col0\" >13</td> \n",
       "        <td id=\"T_374910d2_e5ff_11e8_9b87_acb57d3c0dc9row2_col1\" class=\"data row2 col1\" >12.74</td> \n",
       "    </tr>    <tr> \n",
       "        <th id=\"T_374910d2_e5ff_11e8_9b87_acb57d3c0dc9level0_row3\" class=\"row_heading level0 row3\" >25</th> \n",
       "        <td id=\"T_374910d2_e5ff_11e8_9b87_acb57d3c0dc9row3_col0\" class=\"data row3 col0\" >9</td> \n",
       "        <td id=\"T_374910d2_e5ff_11e8_9b87_acb57d3c0dc9row3_col1\" class=\"data row3 col1\" >7.11</td> \n",
       "    </tr>    <tr> \n",
       "        <th id=\"T_374910d2_e5ff_11e8_9b87_acb57d3c0dc9level0_row4\" class=\"row_heading level0 row4\" >26</th> \n",
       "        <td id=\"T_374910d2_e5ff_11e8_9b87_acb57d3c0dc9row4_col0\" class=\"data row4 col0\" >11</td> \n",
       "        <td id=\"T_374910d2_e5ff_11e8_9b87_acb57d3c0dc9row4_col1\" class=\"data row4 col1\" >7.81</td> \n",
       "    </tr>    <tr> \n",
       "        <th id=\"T_374910d2_e5ff_11e8_9b87_acb57d3c0dc9level0_row5\" class=\"row_heading level0 row5\" >27</th> \n",
       "        <td id=\"T_374910d2_e5ff_11e8_9b87_acb57d3c0dc9row5_col0\" class=\"data row5 col0\" >14</td> \n",
       "        <td id=\"T_374910d2_e5ff_11e8_9b87_acb57d3c0dc9row5_col1\" class=\"data row5 col1\" >8.84</td> \n",
       "    </tr>    <tr> \n",
       "        <th id=\"T_374910d2_e5ff_11e8_9b87_acb57d3c0dc9level0_row6\" class=\"row_heading level0 row6\" >28</th> \n",
       "        <td id=\"T_374910d2_e5ff_11e8_9b87_acb57d3c0dc9row6_col0\" class=\"data row6 col0\" >6</td> \n",
       "        <td id=\"T_374910d2_e5ff_11e8_9b87_acb57d3c0dc9row6_col1\" class=\"data row6 col1\" >6.08</td> \n",
       "    </tr>    <tr> \n",
       "        <th id=\"T_374910d2_e5ff_11e8_9b87_acb57d3c0dc9level0_row7\" class=\"row_heading level0 row7\" >29</th> \n",
       "        <td id=\"T_374910d2_e5ff_11e8_9b87_acb57d3c0dc9row7_col0\" class=\"data row7 col0\" >4</td> \n",
       "        <td id=\"T_374910d2_e5ff_11e8_9b87_acb57d3c0dc9row7_col1\" class=\"data row7 col1\" >5.39</td> \n",
       "    </tr>    <tr> \n",
       "        <th id=\"T_374910d2_e5ff_11e8_9b87_acb57d3c0dc9level0_row8\" class=\"row_heading level0 row8\" >30</th> \n",
       "        <td id=\"T_374910d2_e5ff_11e8_9b87_acb57d3c0dc9row8_col0\" class=\"data row8 col0\" >12</td> \n",
       "        <td id=\"T_374910d2_e5ff_11e8_9b87_acb57d3c0dc9row8_col1\" class=\"data row8 col1\" >8.15</td> \n",
       "    </tr>    <tr> \n",
       "        <th id=\"T_374910d2_e5ff_11e8_9b87_acb57d3c0dc9level0_row9\" class=\"row_heading level0 row9\" >31</th> \n",
       "        <td id=\"T_374910d2_e5ff_11e8_9b87_acb57d3c0dc9row9_col0\" class=\"data row9 col0\" >7</td> \n",
       "        <td id=\"T_374910d2_e5ff_11e8_9b87_acb57d3c0dc9row9_col1\" class=\"data row9 col1\" >6.42</td> \n",
       "    </tr>    <tr> \n",
       "        <th id=\"T_374910d2_e5ff_11e8_9b87_acb57d3c0dc9level0_row10\" class=\"row_heading level0 row10\" >32</th> \n",
       "        <td id=\"T_374910d2_e5ff_11e8_9b87_acb57d3c0dc9row10_col0\" class=\"data row10 col0\" >5</td> \n",
       "        <td id=\"T_374910d2_e5ff_11e8_9b87_acb57d3c0dc9row10_col1\" class=\"data row10 col1\" >5.73</td> \n",
       "    </tr></tbody> \n",
       "</table> <style  type=\"text/css\" >\n",
       "</style>  \n",
       "<table id=\"T_374910d3_e5ff_11e8_a0bd_acb57d3c0dc9\" style='display:inline'><caption>Q 4</caption> \n",
       "<thead>    <tr> \n",
       "        <th class=\"blank level0\" ></th> \n",
       "        <th class=\"col_heading level0 col0\" >x</th> \n",
       "        <th class=\"col_heading level0 col1\" >y</th> \n",
       "    </tr></thead> \n",
       "<tbody>    <tr> \n",
       "        <th id=\"T_374910d3_e5ff_11e8_a0bd_acb57d3c0dc9level0_row0\" class=\"row_heading level0 row0\" >33</th> \n",
       "        <td id=\"T_374910d3_e5ff_11e8_a0bd_acb57d3c0dc9row0_col0\" class=\"data row0 col0\" >8</td> \n",
       "        <td id=\"T_374910d3_e5ff_11e8_a0bd_acb57d3c0dc9row0_col1\" class=\"data row0 col1\" >6.58</td> \n",
       "    </tr>    <tr> \n",
       "        <th id=\"T_374910d3_e5ff_11e8_a0bd_acb57d3c0dc9level0_row1\" class=\"row_heading level0 row1\" >34</th> \n",
       "        <td id=\"T_374910d3_e5ff_11e8_a0bd_acb57d3c0dc9row1_col0\" class=\"data row1 col0\" >8</td> \n",
       "        <td id=\"T_374910d3_e5ff_11e8_a0bd_acb57d3c0dc9row1_col1\" class=\"data row1 col1\" >5.76</td> \n",
       "    </tr>    <tr> \n",
       "        <th id=\"T_374910d3_e5ff_11e8_a0bd_acb57d3c0dc9level0_row2\" class=\"row_heading level0 row2\" >35</th> \n",
       "        <td id=\"T_374910d3_e5ff_11e8_a0bd_acb57d3c0dc9row2_col0\" class=\"data row2 col0\" >8</td> \n",
       "        <td id=\"T_374910d3_e5ff_11e8_a0bd_acb57d3c0dc9row2_col1\" class=\"data row2 col1\" >7.71</td> \n",
       "    </tr>    <tr> \n",
       "        <th id=\"T_374910d3_e5ff_11e8_a0bd_acb57d3c0dc9level0_row3\" class=\"row_heading level0 row3\" >36</th> \n",
       "        <td id=\"T_374910d3_e5ff_11e8_a0bd_acb57d3c0dc9row3_col0\" class=\"data row3 col0\" >8</td> \n",
       "        <td id=\"T_374910d3_e5ff_11e8_a0bd_acb57d3c0dc9row3_col1\" class=\"data row3 col1\" >8.84</td> \n",
       "    </tr>    <tr> \n",
       "        <th id=\"T_374910d3_e5ff_11e8_a0bd_acb57d3c0dc9level0_row4\" class=\"row_heading level0 row4\" >37</th> \n",
       "        <td id=\"T_374910d3_e5ff_11e8_a0bd_acb57d3c0dc9row4_col0\" class=\"data row4 col0\" >8</td> \n",
       "        <td id=\"T_374910d3_e5ff_11e8_a0bd_acb57d3c0dc9row4_col1\" class=\"data row4 col1\" >8.47</td> \n",
       "    </tr>    <tr> \n",
       "        <th id=\"T_374910d3_e5ff_11e8_a0bd_acb57d3c0dc9level0_row5\" class=\"row_heading level0 row5\" >38</th> \n",
       "        <td id=\"T_374910d3_e5ff_11e8_a0bd_acb57d3c0dc9row5_col0\" class=\"data row5 col0\" >8</td> \n",
       "        <td id=\"T_374910d3_e5ff_11e8_a0bd_acb57d3c0dc9row5_col1\" class=\"data row5 col1\" >7.04</td> \n",
       "    </tr>    <tr> \n",
       "        <th id=\"T_374910d3_e5ff_11e8_a0bd_acb57d3c0dc9level0_row6\" class=\"row_heading level0 row6\" >39</th> \n",
       "        <td id=\"T_374910d3_e5ff_11e8_a0bd_acb57d3c0dc9row6_col0\" class=\"data row6 col0\" >8</td> \n",
       "        <td id=\"T_374910d3_e5ff_11e8_a0bd_acb57d3c0dc9row6_col1\" class=\"data row6 col1\" >5.25</td> \n",
       "    </tr>    <tr> \n",
       "        <th id=\"T_374910d3_e5ff_11e8_a0bd_acb57d3c0dc9level0_row7\" class=\"row_heading level0 row7\" >40</th> \n",
       "        <td id=\"T_374910d3_e5ff_11e8_a0bd_acb57d3c0dc9row7_col0\" class=\"data row7 col0\" >19</td> \n",
       "        <td id=\"T_374910d3_e5ff_11e8_a0bd_acb57d3c0dc9row7_col1\" class=\"data row7 col1\" >12.5</td> \n",
       "    </tr>    <tr> \n",
       "        <th id=\"T_374910d3_e5ff_11e8_a0bd_acb57d3c0dc9level0_row8\" class=\"row_heading level0 row8\" >41</th> \n",
       "        <td id=\"T_374910d3_e5ff_11e8_a0bd_acb57d3c0dc9row8_col0\" class=\"data row8 col0\" >8</td> \n",
       "        <td id=\"T_374910d3_e5ff_11e8_a0bd_acb57d3c0dc9row8_col1\" class=\"data row8 col1\" >5.56</td> \n",
       "    </tr>    <tr> \n",
       "        <th id=\"T_374910d3_e5ff_11e8_a0bd_acb57d3c0dc9level0_row9\" class=\"row_heading level0 row9\" >42</th> \n",
       "        <td id=\"T_374910d3_e5ff_11e8_a0bd_acb57d3c0dc9row9_col0\" class=\"data row9 col0\" >8</td> \n",
       "        <td id=\"T_374910d3_e5ff_11e8_a0bd_acb57d3c0dc9row9_col1\" class=\"data row9 col1\" >7.91</td> \n",
       "    </tr>    <tr> \n",
       "        <th id=\"T_374910d3_e5ff_11e8_a0bd_acb57d3c0dc9level0_row10\" class=\"row_heading level0 row10\" >43</th> \n",
       "        <td id=\"T_374910d3_e5ff_11e8_a0bd_acb57d3c0dc9row10_col0\" class=\"data row10 col0\" >8</td> \n",
       "        <td id=\"T_374910d3_e5ff_11e8_a0bd_acb57d3c0dc9row10_col1\" class=\"data row10 col1\" >6.89</td> \n",
       "    </tr></tbody> \n",
       "</table> "
      ]
     },
     "metadata": {},
     "output_type": "display_data"
    }
   ],
   "source": [
    "printmd(\"**Ascombe's Quartet**\") # Function allowing the title to be displayed in bold using markdown.\n",
    "Q1_styler = Q1.style.set_table_attributes(\"style='display:inline'\").set_caption('Q 1') # Code allowing the datasets to be displayed\n",
    "Q2_styler = Q2.style.set_table_attributes(\"style='display:inline'\").set_caption('Q 2') # side by side. \n",
    "Q3_styler = Q3.style.set_table_attributes(\"style='display:inline'\").set_caption('Q 3')\n",
    "Q4_styler = Q4.style.set_table_attributes(\"style='display:inline'\").set_caption('Q 4')\n",
    "# This code derived from: https://stackoverflow.com/questions/38783027/jupyter-notebook-display-two-pandas-tables-side-by-side\n",
    "display_html(Q1_styler._repr_html_() + Q2_styler._repr_html_() + Q3_styler._repr_html_() + Q4_styler._repr_html_(), raw=True)\n"
   ]
  },
  {
   "cell_type": "markdown",
   "metadata": {},
   "source": [
    "The pandas.describe() function is used to calculate the main descriptive statistics of the datasets. The **mean** and **standard deviation** are the same across all datasets. "
   ]
  },
  {
   "cell_type": "code",
   "execution_count": 8,
   "metadata": {},
   "outputs": [
    {
     "data": {
      "text/markdown": [
       "**Ascombe's Quartet Summary Statistics**"
      ],
      "text/plain": [
       "<IPython.core.display.Markdown object>"
      ]
     },
     "metadata": {},
     "output_type": "display_data"
    },
    {
     "data": {
      "text/html": [
       "<style  type=\"text/css\" >\n",
       "</style>  \n",
       "<table id=\"T_c4c6e6e4_e5fc_11e8_a2bc_acb57d3c0dc9\" style='display:inline'><caption>Q 1</caption> \n",
       "<thead>    <tr> \n",
       "        <th class=\"blank level0\" ></th> \n",
       "        <th class=\"col_heading level0 col0\" >x</th> \n",
       "        <th class=\"col_heading level0 col1\" >y</th> \n",
       "    </tr></thead> \n",
       "<tbody>    <tr> \n",
       "        <th id=\"T_c4c6e6e4_e5fc_11e8_a2bc_acb57d3c0dc9level0_row0\" class=\"row_heading level0 row0\" >count</th> \n",
       "        <td id=\"T_c4c6e6e4_e5fc_11e8_a2bc_acb57d3c0dc9row0_col0\" class=\"data row0 col0\" >11</td> \n",
       "        <td id=\"T_c4c6e6e4_e5fc_11e8_a2bc_acb57d3c0dc9row0_col1\" class=\"data row0 col1\" >11</td> \n",
       "    </tr>    <tr> \n",
       "        <th id=\"T_c4c6e6e4_e5fc_11e8_a2bc_acb57d3c0dc9level0_row1\" class=\"row_heading level0 row1\" >mean</th> \n",
       "        <td id=\"T_c4c6e6e4_e5fc_11e8_a2bc_acb57d3c0dc9row1_col0\" class=\"data row1 col0\" >9</td> \n",
       "        <td id=\"T_c4c6e6e4_e5fc_11e8_a2bc_acb57d3c0dc9row1_col1\" class=\"data row1 col1\" >7.50091</td> \n",
       "    </tr>    <tr> \n",
       "        <th id=\"T_c4c6e6e4_e5fc_11e8_a2bc_acb57d3c0dc9level0_row2\" class=\"row_heading level0 row2\" >std</th> \n",
       "        <td id=\"T_c4c6e6e4_e5fc_11e8_a2bc_acb57d3c0dc9row2_col0\" class=\"data row2 col0\" >3.31662</td> \n",
       "        <td id=\"T_c4c6e6e4_e5fc_11e8_a2bc_acb57d3c0dc9row2_col1\" class=\"data row2 col1\" >2.03157</td> \n",
       "    </tr>    <tr> \n",
       "        <th id=\"T_c4c6e6e4_e5fc_11e8_a2bc_acb57d3c0dc9level0_row3\" class=\"row_heading level0 row3\" >min</th> \n",
       "        <td id=\"T_c4c6e6e4_e5fc_11e8_a2bc_acb57d3c0dc9row3_col0\" class=\"data row3 col0\" >4</td> \n",
       "        <td id=\"T_c4c6e6e4_e5fc_11e8_a2bc_acb57d3c0dc9row3_col1\" class=\"data row3 col1\" >4.26</td> \n",
       "    </tr>    <tr> \n",
       "        <th id=\"T_c4c6e6e4_e5fc_11e8_a2bc_acb57d3c0dc9level0_row4\" class=\"row_heading level0 row4\" >25%</th> \n",
       "        <td id=\"T_c4c6e6e4_e5fc_11e8_a2bc_acb57d3c0dc9row4_col0\" class=\"data row4 col0\" >6.5</td> \n",
       "        <td id=\"T_c4c6e6e4_e5fc_11e8_a2bc_acb57d3c0dc9row4_col1\" class=\"data row4 col1\" >6.315</td> \n",
       "    </tr>    <tr> \n",
       "        <th id=\"T_c4c6e6e4_e5fc_11e8_a2bc_acb57d3c0dc9level0_row5\" class=\"row_heading level0 row5\" >50%</th> \n",
       "        <td id=\"T_c4c6e6e4_e5fc_11e8_a2bc_acb57d3c0dc9row5_col0\" class=\"data row5 col0\" >9</td> \n",
       "        <td id=\"T_c4c6e6e4_e5fc_11e8_a2bc_acb57d3c0dc9row5_col1\" class=\"data row5 col1\" >7.58</td> \n",
       "    </tr>    <tr> \n",
       "        <th id=\"T_c4c6e6e4_e5fc_11e8_a2bc_acb57d3c0dc9level0_row6\" class=\"row_heading level0 row6\" >75%</th> \n",
       "        <td id=\"T_c4c6e6e4_e5fc_11e8_a2bc_acb57d3c0dc9row6_col0\" class=\"data row6 col0\" >11.5</td> \n",
       "        <td id=\"T_c4c6e6e4_e5fc_11e8_a2bc_acb57d3c0dc9row6_col1\" class=\"data row6 col1\" >8.57</td> \n",
       "    </tr>    <tr> \n",
       "        <th id=\"T_c4c6e6e4_e5fc_11e8_a2bc_acb57d3c0dc9level0_row7\" class=\"row_heading level0 row7\" >max</th> \n",
       "        <td id=\"T_c4c6e6e4_e5fc_11e8_a2bc_acb57d3c0dc9row7_col0\" class=\"data row7 col0\" >14</td> \n",
       "        <td id=\"T_c4c6e6e4_e5fc_11e8_a2bc_acb57d3c0dc9row7_col1\" class=\"data row7 col1\" >10.84</td> \n",
       "    </tr></tbody> \n",
       "</table> <style  type=\"text/css\" >\n",
       "</style>  \n",
       "<table id=\"T_c4c782f4_e5fc_11e8_b040_acb57d3c0dc9\" style='display:inline'><caption>Q 2</caption> \n",
       "<thead>    <tr> \n",
       "        <th class=\"blank level0\" ></th> \n",
       "        <th class=\"col_heading level0 col0\" >x</th> \n",
       "        <th class=\"col_heading level0 col1\" >y</th> \n",
       "    </tr></thead> \n",
       "<tbody>    <tr> \n",
       "        <th id=\"T_c4c782f4_e5fc_11e8_b040_acb57d3c0dc9level0_row0\" class=\"row_heading level0 row0\" >count</th> \n",
       "        <td id=\"T_c4c782f4_e5fc_11e8_b040_acb57d3c0dc9row0_col0\" class=\"data row0 col0\" >11</td> \n",
       "        <td id=\"T_c4c782f4_e5fc_11e8_b040_acb57d3c0dc9row0_col1\" class=\"data row0 col1\" >11</td> \n",
       "    </tr>    <tr> \n",
       "        <th id=\"T_c4c782f4_e5fc_11e8_b040_acb57d3c0dc9level0_row1\" class=\"row_heading level0 row1\" >mean</th> \n",
       "        <td id=\"T_c4c782f4_e5fc_11e8_b040_acb57d3c0dc9row1_col0\" class=\"data row1 col0\" >9</td> \n",
       "        <td id=\"T_c4c782f4_e5fc_11e8_b040_acb57d3c0dc9row1_col1\" class=\"data row1 col1\" >7.50091</td> \n",
       "    </tr>    <tr> \n",
       "        <th id=\"T_c4c782f4_e5fc_11e8_b040_acb57d3c0dc9level0_row2\" class=\"row_heading level0 row2\" >std</th> \n",
       "        <td id=\"T_c4c782f4_e5fc_11e8_b040_acb57d3c0dc9row2_col0\" class=\"data row2 col0\" >3.31662</td> \n",
       "        <td id=\"T_c4c782f4_e5fc_11e8_b040_acb57d3c0dc9row2_col1\" class=\"data row2 col1\" >2.03166</td> \n",
       "    </tr>    <tr> \n",
       "        <th id=\"T_c4c782f4_e5fc_11e8_b040_acb57d3c0dc9level0_row3\" class=\"row_heading level0 row3\" >min</th> \n",
       "        <td id=\"T_c4c782f4_e5fc_11e8_b040_acb57d3c0dc9row3_col0\" class=\"data row3 col0\" >4</td> \n",
       "        <td id=\"T_c4c782f4_e5fc_11e8_b040_acb57d3c0dc9row3_col1\" class=\"data row3 col1\" >3.1</td> \n",
       "    </tr>    <tr> \n",
       "        <th id=\"T_c4c782f4_e5fc_11e8_b040_acb57d3c0dc9level0_row4\" class=\"row_heading level0 row4\" >25%</th> \n",
       "        <td id=\"T_c4c782f4_e5fc_11e8_b040_acb57d3c0dc9row4_col0\" class=\"data row4 col0\" >6.5</td> \n",
       "        <td id=\"T_c4c782f4_e5fc_11e8_b040_acb57d3c0dc9row4_col1\" class=\"data row4 col1\" >6.695</td> \n",
       "    </tr>    <tr> \n",
       "        <th id=\"T_c4c782f4_e5fc_11e8_b040_acb57d3c0dc9level0_row5\" class=\"row_heading level0 row5\" >50%</th> \n",
       "        <td id=\"T_c4c782f4_e5fc_11e8_b040_acb57d3c0dc9row5_col0\" class=\"data row5 col0\" >9</td> \n",
       "        <td id=\"T_c4c782f4_e5fc_11e8_b040_acb57d3c0dc9row5_col1\" class=\"data row5 col1\" >8.14</td> \n",
       "    </tr>    <tr> \n",
       "        <th id=\"T_c4c782f4_e5fc_11e8_b040_acb57d3c0dc9level0_row6\" class=\"row_heading level0 row6\" >75%</th> \n",
       "        <td id=\"T_c4c782f4_e5fc_11e8_b040_acb57d3c0dc9row6_col0\" class=\"data row6 col0\" >11.5</td> \n",
       "        <td id=\"T_c4c782f4_e5fc_11e8_b040_acb57d3c0dc9row6_col1\" class=\"data row6 col1\" >8.95</td> \n",
       "    </tr>    <tr> \n",
       "        <th id=\"T_c4c782f4_e5fc_11e8_b040_acb57d3c0dc9level0_row7\" class=\"row_heading level0 row7\" >max</th> \n",
       "        <td id=\"T_c4c782f4_e5fc_11e8_b040_acb57d3c0dc9row7_col0\" class=\"data row7 col0\" >14</td> \n",
       "        <td id=\"T_c4c782f4_e5fc_11e8_b040_acb57d3c0dc9row7_col1\" class=\"data row7 col1\" >9.26</td> \n",
       "    </tr></tbody> \n",
       "</table> <style  type=\"text/css\" >\n",
       "</style>  \n",
       "<table id=\"T_c4c782f5_e5fc_11e8_8793_acb57d3c0dc9\" style='display:inline'><caption>Q 3</caption> \n",
       "<thead>    <tr> \n",
       "        <th class=\"blank level0\" ></th> \n",
       "        <th class=\"col_heading level0 col0\" >x</th> \n",
       "        <th class=\"col_heading level0 col1\" >y</th> \n",
       "    </tr></thead> \n",
       "<tbody>    <tr> \n",
       "        <th id=\"T_c4c782f5_e5fc_11e8_8793_acb57d3c0dc9level0_row0\" class=\"row_heading level0 row0\" >count</th> \n",
       "        <td id=\"T_c4c782f5_e5fc_11e8_8793_acb57d3c0dc9row0_col0\" class=\"data row0 col0\" >11</td> \n",
       "        <td id=\"T_c4c782f5_e5fc_11e8_8793_acb57d3c0dc9row0_col1\" class=\"data row0 col1\" >11</td> \n",
       "    </tr>    <tr> \n",
       "        <th id=\"T_c4c782f5_e5fc_11e8_8793_acb57d3c0dc9level0_row1\" class=\"row_heading level0 row1\" >mean</th> \n",
       "        <td id=\"T_c4c782f5_e5fc_11e8_8793_acb57d3c0dc9row1_col0\" class=\"data row1 col0\" >9</td> \n",
       "        <td id=\"T_c4c782f5_e5fc_11e8_8793_acb57d3c0dc9row1_col1\" class=\"data row1 col1\" >7.5</td> \n",
       "    </tr>    <tr> \n",
       "        <th id=\"T_c4c782f5_e5fc_11e8_8793_acb57d3c0dc9level0_row2\" class=\"row_heading level0 row2\" >std</th> \n",
       "        <td id=\"T_c4c782f5_e5fc_11e8_8793_acb57d3c0dc9row2_col0\" class=\"data row2 col0\" >3.31662</td> \n",
       "        <td id=\"T_c4c782f5_e5fc_11e8_8793_acb57d3c0dc9row2_col1\" class=\"data row2 col1\" >2.03042</td> \n",
       "    </tr>    <tr> \n",
       "        <th id=\"T_c4c782f5_e5fc_11e8_8793_acb57d3c0dc9level0_row3\" class=\"row_heading level0 row3\" >min</th> \n",
       "        <td id=\"T_c4c782f5_e5fc_11e8_8793_acb57d3c0dc9row3_col0\" class=\"data row3 col0\" >4</td> \n",
       "        <td id=\"T_c4c782f5_e5fc_11e8_8793_acb57d3c0dc9row3_col1\" class=\"data row3 col1\" >5.39</td> \n",
       "    </tr>    <tr> \n",
       "        <th id=\"T_c4c782f5_e5fc_11e8_8793_acb57d3c0dc9level0_row4\" class=\"row_heading level0 row4\" >25%</th> \n",
       "        <td id=\"T_c4c782f5_e5fc_11e8_8793_acb57d3c0dc9row4_col0\" class=\"data row4 col0\" >6.5</td> \n",
       "        <td id=\"T_c4c782f5_e5fc_11e8_8793_acb57d3c0dc9row4_col1\" class=\"data row4 col1\" >6.25</td> \n",
       "    </tr>    <tr> \n",
       "        <th id=\"T_c4c782f5_e5fc_11e8_8793_acb57d3c0dc9level0_row5\" class=\"row_heading level0 row5\" >50%</th> \n",
       "        <td id=\"T_c4c782f5_e5fc_11e8_8793_acb57d3c0dc9row5_col0\" class=\"data row5 col0\" >9</td> \n",
       "        <td id=\"T_c4c782f5_e5fc_11e8_8793_acb57d3c0dc9row5_col1\" class=\"data row5 col1\" >7.11</td> \n",
       "    </tr>    <tr> \n",
       "        <th id=\"T_c4c782f5_e5fc_11e8_8793_acb57d3c0dc9level0_row6\" class=\"row_heading level0 row6\" >75%</th> \n",
       "        <td id=\"T_c4c782f5_e5fc_11e8_8793_acb57d3c0dc9row6_col0\" class=\"data row6 col0\" >11.5</td> \n",
       "        <td id=\"T_c4c782f5_e5fc_11e8_8793_acb57d3c0dc9row6_col1\" class=\"data row6 col1\" >7.98</td> \n",
       "    </tr>    <tr> \n",
       "        <th id=\"T_c4c782f5_e5fc_11e8_8793_acb57d3c0dc9level0_row7\" class=\"row_heading level0 row7\" >max</th> \n",
       "        <td id=\"T_c4c782f5_e5fc_11e8_8793_acb57d3c0dc9row7_col0\" class=\"data row7 col0\" >14</td> \n",
       "        <td id=\"T_c4c782f5_e5fc_11e8_8793_acb57d3c0dc9row7_col1\" class=\"data row7 col1\" >12.74</td> \n",
       "    </tr></tbody> \n",
       "</table> <style  type=\"text/css\" >\n",
       "</style>  \n",
       "<table id=\"T_c4c8bb6e_e5fc_11e8_a741_acb57d3c0dc9\" style='display:inline'><caption>Q 4</caption> \n",
       "<thead>    <tr> \n",
       "        <th class=\"blank level0\" ></th> \n",
       "        <th class=\"col_heading level0 col0\" >x</th> \n",
       "        <th class=\"col_heading level0 col1\" >y</th> \n",
       "    </tr></thead> \n",
       "<tbody>    <tr> \n",
       "        <th id=\"T_c4c8bb6e_e5fc_11e8_a741_acb57d3c0dc9level0_row0\" class=\"row_heading level0 row0\" >count</th> \n",
       "        <td id=\"T_c4c8bb6e_e5fc_11e8_a741_acb57d3c0dc9row0_col0\" class=\"data row0 col0\" >11</td> \n",
       "        <td id=\"T_c4c8bb6e_e5fc_11e8_a741_acb57d3c0dc9row0_col1\" class=\"data row0 col1\" >11</td> \n",
       "    </tr>    <tr> \n",
       "        <th id=\"T_c4c8bb6e_e5fc_11e8_a741_acb57d3c0dc9level0_row1\" class=\"row_heading level0 row1\" >mean</th> \n",
       "        <td id=\"T_c4c8bb6e_e5fc_11e8_a741_acb57d3c0dc9row1_col0\" class=\"data row1 col0\" >9</td> \n",
       "        <td id=\"T_c4c8bb6e_e5fc_11e8_a741_acb57d3c0dc9row1_col1\" class=\"data row1 col1\" >7.50091</td> \n",
       "    </tr>    <tr> \n",
       "        <th id=\"T_c4c8bb6e_e5fc_11e8_a741_acb57d3c0dc9level0_row2\" class=\"row_heading level0 row2\" >std</th> \n",
       "        <td id=\"T_c4c8bb6e_e5fc_11e8_a741_acb57d3c0dc9row2_col0\" class=\"data row2 col0\" >3.31662</td> \n",
       "        <td id=\"T_c4c8bb6e_e5fc_11e8_a741_acb57d3c0dc9row2_col1\" class=\"data row2 col1\" >2.03058</td> \n",
       "    </tr>    <tr> \n",
       "        <th id=\"T_c4c8bb6e_e5fc_11e8_a741_acb57d3c0dc9level0_row3\" class=\"row_heading level0 row3\" >min</th> \n",
       "        <td id=\"T_c4c8bb6e_e5fc_11e8_a741_acb57d3c0dc9row3_col0\" class=\"data row3 col0\" >8</td> \n",
       "        <td id=\"T_c4c8bb6e_e5fc_11e8_a741_acb57d3c0dc9row3_col1\" class=\"data row3 col1\" >5.25</td> \n",
       "    </tr>    <tr> \n",
       "        <th id=\"T_c4c8bb6e_e5fc_11e8_a741_acb57d3c0dc9level0_row4\" class=\"row_heading level0 row4\" >25%</th> \n",
       "        <td id=\"T_c4c8bb6e_e5fc_11e8_a741_acb57d3c0dc9row4_col0\" class=\"data row4 col0\" >8</td> \n",
       "        <td id=\"T_c4c8bb6e_e5fc_11e8_a741_acb57d3c0dc9row4_col1\" class=\"data row4 col1\" >6.17</td> \n",
       "    </tr>    <tr> \n",
       "        <th id=\"T_c4c8bb6e_e5fc_11e8_a741_acb57d3c0dc9level0_row5\" class=\"row_heading level0 row5\" >50%</th> \n",
       "        <td id=\"T_c4c8bb6e_e5fc_11e8_a741_acb57d3c0dc9row5_col0\" class=\"data row5 col0\" >8</td> \n",
       "        <td id=\"T_c4c8bb6e_e5fc_11e8_a741_acb57d3c0dc9row5_col1\" class=\"data row5 col1\" >7.04</td> \n",
       "    </tr>    <tr> \n",
       "        <th id=\"T_c4c8bb6e_e5fc_11e8_a741_acb57d3c0dc9level0_row6\" class=\"row_heading level0 row6\" >75%</th> \n",
       "        <td id=\"T_c4c8bb6e_e5fc_11e8_a741_acb57d3c0dc9row6_col0\" class=\"data row6 col0\" >8</td> \n",
       "        <td id=\"T_c4c8bb6e_e5fc_11e8_a741_acb57d3c0dc9row6_col1\" class=\"data row6 col1\" >8.19</td> \n",
       "    </tr>    <tr> \n",
       "        <th id=\"T_c4c8bb6e_e5fc_11e8_a741_acb57d3c0dc9level0_row7\" class=\"row_heading level0 row7\" >max</th> \n",
       "        <td id=\"T_c4c8bb6e_e5fc_11e8_a741_acb57d3c0dc9row7_col0\" class=\"data row7 col0\" >19</td> \n",
       "        <td id=\"T_c4c8bb6e_e5fc_11e8_a741_acb57d3c0dc9row7_col1\" class=\"data row7 col1\" >12.5</td> \n",
       "    </tr></tbody> \n",
       "</table> "
      ]
     },
     "metadata": {},
     "output_type": "display_data"
    }
   ],
   "source": [
    "printmd(\"**Ascombe's Quartet Summary Statistics**\")\n",
    "Q1_describe = Q1.describe() \n",
    "Q2_describe = Q2.describe() \n",
    "Q3_describe = Q3.describe() \n",
    "Q4_describe = Q4.describe() \n",
    "\n",
    "Q1_styler = Q1_describe.style.set_table_attributes(\"style='display:inline'\").set_caption('Q 1')\n",
    "Q2_styler = Q2_describe.style.set_table_attributes(\"style='display:inline'\").set_caption('Q 2')\n",
    "Q3_styler = Q3_describe.style.set_table_attributes(\"style='display:inline'\").set_caption('Q 3')\n",
    "Q4_styler = Q4_describe.style.set_table_attributes(\"style='display:inline'\").set_caption('Q 4')\n",
    "\n",
    "display_html(Q1_styler._repr_html_() + Q2_styler._repr_html_()+Q3_styler._repr_html_()+Q4_styler._repr_html_(), raw=True)\n",
    "\n",
    "# https://stackoverflow.com/questions/38783027/jupyter-notebook-display-two-pandas-tables-side-by-side"
   ]
  },
  {
   "cell_type": "markdown",
   "metadata": {},
   "source": [
    "The **variance** is the standard deviation squared and i will use the pandas var() function to calculate it across all datasets. \n",
    "The variance also appears to be the same. "
   ]
  },
  {
   "cell_type": "code",
   "execution_count": 9,
   "metadata": {
    "scrolled": true
   },
   "outputs": [
    {
     "data": {
      "text/markdown": [
       "**Ascombe's Quartet Variance**"
      ],
      "text/plain": [
       "<IPython.core.display.Markdown object>"
      ]
     },
     "metadata": {},
     "output_type": "display_data"
    },
    {
     "data": {
      "text/html": [
       "<style  type=\"text/css\" >\n",
       "</style>  \n",
       "<table id=\"T_c5f5bb06_e5fc_11e8_8c6f_acb57d3c0dc9\" style='display:inline'> \n",
       "<thead>    <tr> \n",
       "        <th class=\"blank level0\" ></th> \n",
       "        <th class=\"col_heading level0 col0\" >Q 1</th> \n",
       "    </tr></thead> \n",
       "<tbody>    <tr> \n",
       "        <th id=\"T_c5f5bb06_e5fc_11e8_8c6f_acb57d3c0dc9level0_row0\" class=\"row_heading level0 row0\" >x</th> \n",
       "        <td id=\"T_c5f5bb06_e5fc_11e8_8c6f_acb57d3c0dc9row0_col0\" class=\"data row0 col0\" >11</td> \n",
       "    </tr>    <tr> \n",
       "        <th id=\"T_c5f5bb06_e5fc_11e8_8c6f_acb57d3c0dc9level0_row1\" class=\"row_heading level0 row1\" >y</th> \n",
       "        <td id=\"T_c5f5bb06_e5fc_11e8_8c6f_acb57d3c0dc9row1_col0\" class=\"data row1 col0\" >4.12727</td> \n",
       "    </tr></tbody> \n",
       "</table> <style  type=\"text/css\" >\n",
       "</style>  \n",
       "<table id=\"T_c5f5bb07_e5fc_11e8_bb61_acb57d3c0dc9\" style='display:inline'> \n",
       "<thead>    <tr> \n",
       "        <th class=\"blank level0\" ></th> \n",
       "        <th class=\"col_heading level0 col0\" >Q 2</th> \n",
       "    </tr></thead> \n",
       "<tbody>    <tr> \n",
       "        <th id=\"T_c5f5bb07_e5fc_11e8_bb61_acb57d3c0dc9level0_row0\" class=\"row_heading level0 row0\" >x</th> \n",
       "        <td id=\"T_c5f5bb07_e5fc_11e8_bb61_acb57d3c0dc9row0_col0\" class=\"data row0 col0\" >11</td> \n",
       "    </tr>    <tr> \n",
       "        <th id=\"T_c5f5bb07_e5fc_11e8_bb61_acb57d3c0dc9level0_row1\" class=\"row_heading level0 row1\" >y</th> \n",
       "        <td id=\"T_c5f5bb07_e5fc_11e8_bb61_acb57d3c0dc9row1_col0\" class=\"data row1 col0\" >4.12763</td> \n",
       "    </tr></tbody> \n",
       "</table> <style  type=\"text/css\" >\n",
       "</style>  \n",
       "<table id=\"T_c5f6574a_e5fc_11e8_a701_acb57d3c0dc9\" style='display:inline'> \n",
       "<thead>    <tr> \n",
       "        <th class=\"blank level0\" ></th> \n",
       "        <th class=\"col_heading level0 col0\" >Q 3</th> \n",
       "    </tr></thead> \n",
       "<tbody>    <tr> \n",
       "        <th id=\"T_c5f6574a_e5fc_11e8_a701_acb57d3c0dc9level0_row0\" class=\"row_heading level0 row0\" >x</th> \n",
       "        <td id=\"T_c5f6574a_e5fc_11e8_a701_acb57d3c0dc9row0_col0\" class=\"data row0 col0\" >11</td> \n",
       "    </tr>    <tr> \n",
       "        <th id=\"T_c5f6574a_e5fc_11e8_a701_acb57d3c0dc9level0_row1\" class=\"row_heading level0 row1\" >y</th> \n",
       "        <td id=\"T_c5f6574a_e5fc_11e8_a701_acb57d3c0dc9row1_col0\" class=\"data row1 col0\" >4.12262</td> \n",
       "    </tr></tbody> \n",
       "</table> <style  type=\"text/css\" >\n",
       "</style>  \n",
       "<table id=\"T_c5f6574b_e5fc_11e8_8243_acb57d3c0dc9\" style='display:inline'> \n",
       "<thead>    <tr> \n",
       "        <th class=\"blank level0\" ></th> \n",
       "        <th class=\"col_heading level0 col0\" >Q 4</th> \n",
       "    </tr></thead> \n",
       "<tbody>    <tr> \n",
       "        <th id=\"T_c5f6574b_e5fc_11e8_8243_acb57d3c0dc9level0_row0\" class=\"row_heading level0 row0\" >x</th> \n",
       "        <td id=\"T_c5f6574b_e5fc_11e8_8243_acb57d3c0dc9row0_col0\" class=\"data row0 col0\" >11</td> \n",
       "    </tr>    <tr> \n",
       "        <th id=\"T_c5f6574b_e5fc_11e8_8243_acb57d3c0dc9level0_row1\" class=\"row_heading level0 row1\" >y</th> \n",
       "        <td id=\"T_c5f6574b_e5fc_11e8_8243_acb57d3c0dc9row1_col0\" class=\"data row1 col0\" >4.12325</td> \n",
       "    </tr></tbody> \n",
       "</table> "
      ]
     },
     "metadata": {},
     "output_type": "display_data"
    }
   ],
   "source": [
    "printmd(\"**Ascombe's Quartet Variance**\")\n",
    "Q1_var = Q1.var() \n",
    "Q1_var_table = pd.DataFrame(Q1_var, columns=[\"Q 1\"]) # The var output must be converted to a pandas dataframe before it can\n",
    "                                                     # be displayed using the styler method below.\n",
    "Q2_var = Q2.var() \n",
    "Q2_var_table = pd.DataFrame(Q2_var, columns=[\"Q 2\"])\n",
    "\n",
    "Q3_var = Q3.var() \n",
    "Q3_var_table = pd.DataFrame(Q3_var, columns=[\"Q 3\"])\n",
    "\n",
    "Q4_var = Q4.var() \n",
    "Q4_var_table = pd.DataFrame(Q4_var, columns=[\"Q 4\"])\n",
    "\n",
    "Q1_styler_var = Q1_var_table.style.set_table_attributes(\"style='display:inline'\")\n",
    "Q2_styler_var = Q2_var_table.style.set_table_attributes(\"style='display:inline'\")\n",
    "Q3_styler_var = Q3_var_table.style.set_table_attributes(\"style='display:inline'\")\n",
    "Q4_styler_var = Q4_var_table.style.set_table_attributes(\"style='display:inline'\")\n",
    "\n",
    "display_html(Q1_styler_var._repr_html_() + Q2_styler_var._repr_html_()+Q3_styler_var._repr_html_()+Q4_styler_var._repr_html_(), raw=True)\n"
   ]
  },
  {
   "cell_type": "markdown",
   "metadata": {},
   "source": [
    "The below cell uses numpy to shows\n",
    "thas the standard deviation is calculated by getting the square root of the variance. "
   ]
  },
  {
   "cell_type": "code",
   "execution_count": 10,
   "metadata": {},
   "outputs": [
    {
     "data": {
      "text/plain": [
       "3.3166247903554"
      ]
     },
     "execution_count": 10,
     "metadata": {},
     "output_type": "execute_result"
    }
   ],
   "source": [
    "np.sqrt(Q1_var[\"x\"])"
   ]
  },
  {
   "cell_type": "markdown",
   "metadata": {},
   "source": [
    "The **median** is calculated using pandas. Here, we do see some differences. The median of the Y variables appear to be different from the mean. This suggests a possible **skewed** non-normal distribution."
   ]
  },
  {
   "cell_type": "code",
   "execution_count": 11,
   "metadata": {},
   "outputs": [
    {
     "data": {
      "text/markdown": [
       "**Ascombe's Quartet Median**"
      ],
      "text/plain": [
       "<IPython.core.display.Markdown object>"
      ]
     },
     "metadata": {},
     "output_type": "display_data"
    },
    {
     "data": {
      "text/html": [
       "<style  type=\"text/css\" >\n",
       "</style>  \n",
       "<table id=\"T_c81afeac_e5fc_11e8_8db8_acb57d3c0dc9\" style='display:inline'> \n",
       "<thead>    <tr> \n",
       "        <th class=\"blank level0\" ></th> \n",
       "        <th class=\"col_heading level0 col0\" >Q 1</th> \n",
       "    </tr></thead> \n",
       "<tbody>    <tr> \n",
       "        <th id=\"T_c81afeac_e5fc_11e8_8db8_acb57d3c0dc9level0_row0\" class=\"row_heading level0 row0\" >x</th> \n",
       "        <td id=\"T_c81afeac_e5fc_11e8_8db8_acb57d3c0dc9row0_col0\" class=\"data row0 col0\" >9</td> \n",
       "    </tr>    <tr> \n",
       "        <th id=\"T_c81afeac_e5fc_11e8_8db8_acb57d3c0dc9level0_row1\" class=\"row_heading level0 row1\" >y</th> \n",
       "        <td id=\"T_c81afeac_e5fc_11e8_8db8_acb57d3c0dc9row1_col0\" class=\"data row1 col0\" >7.58</td> \n",
       "    </tr></tbody> \n",
       "</table> <style  type=\"text/css\" >\n",
       "</style>  \n",
       "<table id=\"T_c81afead_e5fc_11e8_aa8c_acb57d3c0dc9\" style='display:inline'> \n",
       "<thead>    <tr> \n",
       "        <th class=\"blank level0\" ></th> \n",
       "        <th class=\"col_heading level0 col0\" >Q 2</th> \n",
       "    </tr></thead> \n",
       "<tbody>    <tr> \n",
       "        <th id=\"T_c81afead_e5fc_11e8_aa8c_acb57d3c0dc9level0_row0\" class=\"row_heading level0 row0\" >x</th> \n",
       "        <td id=\"T_c81afead_e5fc_11e8_aa8c_acb57d3c0dc9row0_col0\" class=\"data row0 col0\" >9</td> \n",
       "    </tr>    <tr> \n",
       "        <th id=\"T_c81afead_e5fc_11e8_aa8c_acb57d3c0dc9level0_row1\" class=\"row_heading level0 row1\" >y</th> \n",
       "        <td id=\"T_c81afead_e5fc_11e8_aa8c_acb57d3c0dc9row1_col0\" class=\"data row1 col0\" >8.14</td> \n",
       "    </tr></tbody> \n",
       "</table> <style  type=\"text/css\" >\n",
       "</style>  \n",
       "<table id=\"T_c81b9b00_e5fc_11e8_b065_acb57d3c0dc9\" style='display:inline'> \n",
       "<thead>    <tr> \n",
       "        <th class=\"blank level0\" ></th> \n",
       "        <th class=\"col_heading level0 col0\" >Q 3</th> \n",
       "    </tr></thead> \n",
       "<tbody>    <tr> \n",
       "        <th id=\"T_c81b9b00_e5fc_11e8_b065_acb57d3c0dc9level0_row0\" class=\"row_heading level0 row0\" >x</th> \n",
       "        <td id=\"T_c81b9b00_e5fc_11e8_b065_acb57d3c0dc9row0_col0\" class=\"data row0 col0\" >9</td> \n",
       "    </tr>    <tr> \n",
       "        <th id=\"T_c81b9b00_e5fc_11e8_b065_acb57d3c0dc9level0_row1\" class=\"row_heading level0 row1\" >y</th> \n",
       "        <td id=\"T_c81b9b00_e5fc_11e8_b065_acb57d3c0dc9row1_col0\" class=\"data row1 col0\" >7.11</td> \n",
       "    </tr></tbody> \n",
       "</table> <style  type=\"text/css\" >\n",
       "</style>  \n",
       "<table id=\"T_c81b9b01_e5fc_11e8_8c0d_acb57d3c0dc9\" style='display:inline'> \n",
       "<thead>    <tr> \n",
       "        <th class=\"blank level0\" ></th> \n",
       "        <th class=\"col_heading level0 col0\" >Q 4</th> \n",
       "    </tr></thead> \n",
       "<tbody>    <tr> \n",
       "        <th id=\"T_c81b9b01_e5fc_11e8_8c0d_acb57d3c0dc9level0_row0\" class=\"row_heading level0 row0\" >x</th> \n",
       "        <td id=\"T_c81b9b01_e5fc_11e8_8c0d_acb57d3c0dc9row0_col0\" class=\"data row0 col0\" >8</td> \n",
       "    </tr>    <tr> \n",
       "        <th id=\"T_c81b9b01_e5fc_11e8_8c0d_acb57d3c0dc9level0_row1\" class=\"row_heading level0 row1\" >y</th> \n",
       "        <td id=\"T_c81b9b01_e5fc_11e8_8c0d_acb57d3c0dc9row1_col0\" class=\"data row1 col0\" >7.04</td> \n",
       "    </tr></tbody> \n",
       "</table> "
      ]
     },
     "metadata": {},
     "output_type": "display_data"
    }
   ],
   "source": [
    "printmd(\"**Ascombe's Quartet Median**\")\n",
    "Q1_median = Q1.median() \n",
    "Q1_median_table = pd.DataFrame(Q1_median, columns=[\"Q 1\"])\n",
    "\n",
    "Q2_median = Q2.median() \n",
    "Q2_median_table = pd.DataFrame(Q2_median, columns=[\"Q 2\"])\n",
    "\n",
    "Q3_median = Q3.median() \n",
    "Q3_median_table = pd.DataFrame(Q3_median, columns=[\"Q 3\"])\n",
    "\n",
    "Q4_median = Q4.median() \n",
    "Q4_median_table = pd.DataFrame(Q4_median, columns=[\"Q 4\"])\n",
    "\n",
    "Q1_styler_median = Q1_median_table.style.set_table_attributes(\"style='display:inline'\")\n",
    "Q2_styler_median = Q2_median_table.style.set_table_attributes(\"style='display:inline'\")\n",
    "Q3_styler_median = Q3_median_table.style.set_table_attributes(\"style='display:inline'\")\n",
    "Q4_styler_median = Q4_median_table.style.set_table_attributes(\"style='display:inline'\")\n",
    "\n",
    "display_html(Q1_styler_median._repr_html_() + Q2_styler_median._repr_html_()+Q3_styler_median._repr_html_()+Q4_styler_median._repr_html_(), raw=True)\n"
   ]
  },
  {
   "cell_type": "markdown",
   "metadata": {},
   "source": [
    "Finally, we look at the **correlation** of the two variables in each dataset, again using pandas.The correlation also appears to be identical across the datasets. "
   ]
  },
  {
   "cell_type": "code",
   "execution_count": 12,
   "metadata": {},
   "outputs": [
    {
     "data": {
      "text/markdown": [
       "**Ascombe's Quartet Correlation**"
      ],
      "text/plain": [
       "<IPython.core.display.Markdown object>"
      ]
     },
     "metadata": {},
     "output_type": "display_data"
    },
    {
     "data": {
      "text/html": [
       "<style  type=\"text/css\" >\n",
       "</style>  \n",
       "<table id=\"T_c96ce61e_e5fc_11e8_9bd7_acb57d3c0dc9\" style='display:inline'><caption>Q 1</caption> \n",
       "<thead>    <tr> \n",
       "        <th class=\"blank level0\" ></th> \n",
       "        <th class=\"col_heading level0 col0\" >x</th> \n",
       "        <th class=\"col_heading level0 col1\" >y</th> \n",
       "    </tr></thead> \n",
       "<tbody>    <tr> \n",
       "        <th id=\"T_c96ce61e_e5fc_11e8_9bd7_acb57d3c0dc9level0_row0\" class=\"row_heading level0 row0\" >x</th> \n",
       "        <td id=\"T_c96ce61e_e5fc_11e8_9bd7_acb57d3c0dc9row0_col0\" class=\"data row0 col0\" >1</td> \n",
       "        <td id=\"T_c96ce61e_e5fc_11e8_9bd7_acb57d3c0dc9row0_col1\" class=\"data row0 col1\" >0.816421</td> \n",
       "    </tr>    <tr> \n",
       "        <th id=\"T_c96ce61e_e5fc_11e8_9bd7_acb57d3c0dc9level0_row1\" class=\"row_heading level0 row1\" >y</th> \n",
       "        <td id=\"T_c96ce61e_e5fc_11e8_9bd7_acb57d3c0dc9row1_col0\" class=\"data row1 col0\" >0.816421</td> \n",
       "        <td id=\"T_c96ce61e_e5fc_11e8_9bd7_acb57d3c0dc9row1_col1\" class=\"data row1 col1\" >1</td> \n",
       "    </tr></tbody> \n",
       "</table> <style  type=\"text/css\" >\n",
       "</style>  \n",
       "<table id=\"T_c96d830c_e5fc_11e8_80c2_acb57d3c0dc9\" style='display:inline'><caption>Q 2</caption> \n",
       "<thead>    <tr> \n",
       "        <th class=\"blank level0\" ></th> \n",
       "        <th class=\"col_heading level0 col0\" >x</th> \n",
       "        <th class=\"col_heading level0 col1\" >y</th> \n",
       "    </tr></thead> \n",
       "<tbody>    <tr> \n",
       "        <th id=\"T_c96d830c_e5fc_11e8_80c2_acb57d3c0dc9level0_row0\" class=\"row_heading level0 row0\" >x</th> \n",
       "        <td id=\"T_c96d830c_e5fc_11e8_80c2_acb57d3c0dc9row0_col0\" class=\"data row0 col0\" >1</td> \n",
       "        <td id=\"T_c96d830c_e5fc_11e8_80c2_acb57d3c0dc9row0_col1\" class=\"data row0 col1\" >0.816237</td> \n",
       "    </tr>    <tr> \n",
       "        <th id=\"T_c96d830c_e5fc_11e8_80c2_acb57d3c0dc9level0_row1\" class=\"row_heading level0 row1\" >y</th> \n",
       "        <td id=\"T_c96d830c_e5fc_11e8_80c2_acb57d3c0dc9row1_col0\" class=\"data row1 col0\" >0.816237</td> \n",
       "        <td id=\"T_c96d830c_e5fc_11e8_80c2_acb57d3c0dc9row1_col1\" class=\"data row1 col1\" >1</td> \n",
       "    </tr></tbody> \n",
       "</table> <style  type=\"text/css\" >\n",
       "</style>  \n",
       "<table id=\"T_c96d830d_e5fc_11e8_b6bf_acb57d3c0dc9\" style='display:inline'><caption>Q 3</caption> \n",
       "<thead>    <tr> \n",
       "        <th class=\"blank level0\" ></th> \n",
       "        <th class=\"col_heading level0 col0\" >x</th> \n",
       "        <th class=\"col_heading level0 col1\" >y</th> \n",
       "    </tr></thead> \n",
       "<tbody>    <tr> \n",
       "        <th id=\"T_c96d830d_e5fc_11e8_b6bf_acb57d3c0dc9level0_row0\" class=\"row_heading level0 row0\" >x</th> \n",
       "        <td id=\"T_c96d830d_e5fc_11e8_b6bf_acb57d3c0dc9row0_col0\" class=\"data row0 col0\" >1</td> \n",
       "        <td id=\"T_c96d830d_e5fc_11e8_b6bf_acb57d3c0dc9row0_col1\" class=\"data row0 col1\" >0.816287</td> \n",
       "    </tr>    <tr> \n",
       "        <th id=\"T_c96d830d_e5fc_11e8_b6bf_acb57d3c0dc9level0_row1\" class=\"row_heading level0 row1\" >y</th> \n",
       "        <td id=\"T_c96d830d_e5fc_11e8_b6bf_acb57d3c0dc9row1_col0\" class=\"data row1 col0\" >0.816287</td> \n",
       "        <td id=\"T_c96d830d_e5fc_11e8_b6bf_acb57d3c0dc9row1_col1\" class=\"data row1 col1\" >1</td> \n",
       "    </tr></tbody> \n",
       "</table> <style  type=\"text/css\" >\n",
       "</style>  \n",
       "<table id=\"T_c96d830e_e5fc_11e8_92ba_acb57d3c0dc9\" style='display:inline'><caption>Q 4</caption> \n",
       "<thead>    <tr> \n",
       "        <th class=\"blank level0\" ></th> \n",
       "        <th class=\"col_heading level0 col0\" >x</th> \n",
       "        <th class=\"col_heading level0 col1\" >y</th> \n",
       "    </tr></thead> \n",
       "<tbody>    <tr> \n",
       "        <th id=\"T_c96d830e_e5fc_11e8_92ba_acb57d3c0dc9level0_row0\" class=\"row_heading level0 row0\" >x</th> \n",
       "        <td id=\"T_c96d830e_e5fc_11e8_92ba_acb57d3c0dc9row0_col0\" class=\"data row0 col0\" >1</td> \n",
       "        <td id=\"T_c96d830e_e5fc_11e8_92ba_acb57d3c0dc9row0_col1\" class=\"data row0 col1\" >0.816521</td> \n",
       "    </tr>    <tr> \n",
       "        <th id=\"T_c96d830e_e5fc_11e8_92ba_acb57d3c0dc9level0_row1\" class=\"row_heading level0 row1\" >y</th> \n",
       "        <td id=\"T_c96d830e_e5fc_11e8_92ba_acb57d3c0dc9row1_col0\" class=\"data row1 col0\" >0.816521</td> \n",
       "        <td id=\"T_c96d830e_e5fc_11e8_92ba_acb57d3c0dc9row1_col1\" class=\"data row1 col1\" >1</td> \n",
       "    </tr></tbody> \n",
       "</table> "
      ]
     },
     "metadata": {},
     "output_type": "display_data"
    }
   ],
   "source": [
    "printmd(\"**Ascombe's Quartet Correlation**\")\n",
    "Q1_corr = Q1.corr() \n",
    "Q2_corr = Q2.corr() \n",
    "Q3_corr = Q3.corr() \n",
    "Q4_corr = Q4.corr() \n",
    "\n",
    "Q1_styler = Q1_corr.style.set_table_attributes(\"style='display:inline'\").set_caption('Q 1')\n",
    "Q2_styler = Q2_corr.style.set_table_attributes(\"style='display:inline'\").set_caption('Q 2')\n",
    "Q3_styler = Q3_corr.style.set_table_attributes(\"style='display:inline'\").set_caption('Q 3')\n",
    "Q4_styler = Q4_corr.style.set_table_attributes(\"style='display:inline'\").set_caption('Q 4')\n",
    "\n",
    "display_html(Q1_styler._repr_html_() + Q2_styler._repr_html_()+Q3_styler._repr_html_()+Q4_styler._repr_html_(), raw=True)\n",
    "\n"
   ]
  },
  {
   "cell_type": "markdown",
   "metadata": {},
   "source": [
    "The **mean**, **standard deviation** and **variance** are similar across all datasets. However, slight differences in the **median**, suggest the data merits further investigation. \n",
    "\n",
    "We will now visually inspect the data. "
   ]
  },
  {
   "cell_type": "markdown",
   "metadata": {},
   "source": [
    "## 3. Plotting the Data"
   ]
  },
  {
   "cell_type": "markdown",
   "metadata": {},
   "source": [
    "Barplots are not particularly useful in this case as they simply visualise the descriptive statistics; not the data itself. \n",
    "The comparison below of the median, however, does show some differences between the datasets. You can change the estimator to **mean**, **std** or **var** to get a comparison of these statistics. "
   ]
  },
  {
   "cell_type": "code",
   "execution_count": 13,
   "metadata": {},
   "outputs": [
    {
     "data": {
      "image/png": "[encoded data removed]",
      "text/plain": [
       "<Figure size 720x360 with 2 Axes>"
      ]
     },
     "metadata": {},
     "output_type": "display_data"
    }
   ],
   "source": [
    "fig, (left, right) = plt.subplots(1,2, figsize=(10, 5)) # The figure and subplot methods are used to place the plots side by side.\n",
    "sns.barplot(x=\"x\", y=\"dataset\", data=df, ci=None, estimator=median, ax=left) # Derived from: https://stackoverflow.com/questions/41570747/unwanted-blank-subplots-in-matplotlib\n",
    "left.set_title(\"median of X\") # titles each plot                      \n",
    "sns.barplot(x=\"y\", y=\"dataset\", data=df, ci=None, estimator=median, ax=right) # ax - places the plot on the left or the right.\n",
    "right.set_title(\"mean of Y\")\n",
    "fig.suptitle(\"Median Comparison of x and Y across datasets\") # overall title for the subplot\n",
    "plt.show()"
   ]
  },
  {
   "cell_type": "markdown",
   "metadata": {},
   "source": [
    "The **boxplots** below begin to show the real story of the data. Beginning with the X values:\n",
    "\n",
    "- Database one, two and three all have a very similar uniform distribution. \n",
    "- Database four is completely unique. All the values appear to be the same, except for an extreme outlier. \n",
    "\n",
    "Now with the Y values:\n",
    "\n",
    "- Database one appears to have a cluster around the median.\n",
    "- Database two appears to have an extreme left skew. \n",
    "- Database three and four have extreme outliers. "
   ]
  },
  {
   "cell_type": "code",
   "execution_count": 14,
   "metadata": {},
   "outputs": [
    {
     "data": {
      "image/png": "[encoded data removed]",
      "text/plain": [
       "<Figure size 720x360 with 2 Axes>"
      ]
     },
     "metadata": {},
     "output_type": "display_data"
    }
   ],
   "source": [
    "fig, (left, right) = plt.subplots(1,2, figsize=(10, 5))\n",
    "sns.boxplot(x=df[\"dataset\"], y=df[\"x\"], ax=left)\n",
    "left.set_title(\"Boxplot of x\")\n",
    "sns.boxplot(x=df[\"dataset\"], y=df[\"y\"], ax=right)\n",
    "right.set_title(\"Boxplot of Y\")\n",
    "fig.suptitle(\"Box Plot of X and Y across datasets\")\n",
    "plt.show()"
   ]
  },
  {
   "cell_type": "markdown",
   "metadata": {},
   "source": [
    "The **swarmplots** below plot each bivariate datapoint and tell a similar story to the boxplots."
   ]
  },
  {
   "cell_type": "code",
   "execution_count": 15,
   "metadata": {},
   "outputs": [
    {
     "data": {
      "image/png": "[encoded data removed]",
      "text/plain": [
       "<Figure size 720x360 with 2 Axes>"
      ]
     },
     "metadata": {},
     "output_type": "display_data"
    }
   ],
   "source": [
    "fig, (left, right) = plt.subplots(1,2, figsize=(10, 5))\n",
    "\n",
    "sns.swarmplot(x=df[\"dataset\"], y=df[\"x\"], ax=left)\n",
    "left.set_title(\"Swarmplot of x\")\n",
    "\n",
    "sns.swarmplot(x=df[\"dataset\"], y=df[\"y\"], ax=right)\n",
    "right.set_title(\"Swarmplot of Y\")\n",
    "fig.suptitle(\"Box Plot of X and Y across datasets\")\n",
    "plt.show()"
   ]
  },
  {
   "cell_type": "markdown",
   "metadata": {},
   "source": [
    "Though this is a small dataset, it would be useful to look at **histograms**, to investigate skewness. We will first look at the X values. \n",
    "\n",
    "- Dataset one, two and three all appear to be uniform distributions. \n",
    "- Dataset four is very different and shows the outlier clearly. "
   ]
  },
  {
   "cell_type": "code",
   "execution_count": 17,
   "metadata": {
    "scrolled": false
   },
   "outputs": [
    {
     "data": {
      "image/png": "[encoded data removed]",
      "text/plain": [
       "<Figure size 720x360 with 4 Axes>"
      ]
     },
     "metadata": {},
     "output_type": "display_data"
    }
   ],
   "source": [
    "fig, ((ax1, ax2), (ax3, ax4)) = plt.subplots(2,2, figsize=(10, 5)) # four plots - 2 X 2 - will be plotted in a grid pattern.\n",
    "plt.subplots_adjust(hspace=.5) # The space between the plots is increased. Cite: https://matplotlib.org/api/_as_gen/matplotlib.pyplot.subplots_adjust.html \n",
    "\n",
    "sns.distplot(Q1[\"x\"], kde=False, ax=ax1) # distplots are histograms in seaborn\n",
    "ax1.set_title(\"Histogram of QI X\")\n",
    "\n",
    "sns.distplot(Q2[\"x\"], kde=False, ax=ax2) \n",
    "ax2.set_title(\"Histogram of Q2 X\")\n",
    "\n",
    "sns.distplot(Q3[\"x\"], kde=False, ax=ax3)\n",
    "ax3.set_title(\"Histogram of Q3 X\")\n",
    "\n",
    "\n",
    "sns.distplot(Q4[\"x\"], kde=False, ax=ax4)\n",
    "ax4.set_title(\"Histogram of Q4 X\")\n",
    "\n",
    "fig.suptitle(\"Histogram of X across Anscombe datasets\")\n",
    "\n",
    "plt.show()\n"
   ]
  },
  {
   "cell_type": "markdown",
   "metadata": {},
   "source": [
    "**Histograms** of Y show some very skewed distributions:\n",
    "\n",
    "- Dataset one appears to be fairly uniform. \n",
    "- Dataset two shows the extreme left-skew that we saw early in the swarmplot and boxplot. \n",
    "- Dataset three and four are right-skewed, but this is due to the outliers we observed earlier. "
   ]
  },
  {
   "cell_type": "code",
   "execution_count": 19,
   "metadata": {
    "scrolled": true
   },
   "outputs": [
    {
     "data": {
      "image/png": "[encoded data removed]",
      "text/plain": [
       "<Figure size 720x360 with 4 Axes>"
      ]
     },
     "metadata": {},
     "output_type": "display_data"
    }
   ],
   "source": [
    "fig, ((ax1, ax2), (ax3, ax4)) = plt.subplots(2,2, figsize=(10, 5))\n",
    "plt.subplots_adjust(hspace=.5)\n",
    "\n",
    "sns.distplot(Q1[\"y\"], kde=False, hist=True, ax=ax1)\n",
    "ax1.set_title(\"Histogram of Q1 Y\")\n",
    "\n",
    "sns.distplot(Q2[\"y\"], kde=False, hist=True, ax=ax2)\n",
    "ax2.set_title(\"Histogram of Q2 Y\")\n",
    "\n",
    "sns.distplot(Q3[\"y\"], kde=False, hist=True, ax=ax3)\n",
    "ax3.set_title(\"Histogram of Q3 Y\")\n",
    "\n",
    "\n",
    "sns.distplot(Q4[\"y\"], kde=False, hist=True, ax=ax4)\n",
    "ax4.set_title(\"Histogram of Q4 Y\")\n",
    "\n",
    "fig.suptitle(\"Histogram of Y across datasets\")\n",
    "\n",
    "plt.show()\n"
   ]
  },
  {
   "cell_type": "markdown",
   "metadata": {},
   "source": [
    "Finally, we will look at the bivariate relationship between the variables. The descriptive statistics suggest that they all have a positive correlation of about 0.8. The 'line of best fit' in the regression plots below also suggest that they have a  strong positive linear relationship. \n",
    "\n",
    "However, again, the visual data tells a different story: \n",
    "\n",
    "- Q1 was the one dataset that looked relatively normal in the other plots and does appear to have a positive linear relationship\n",
    "- Q2 certainly appears to have a relationship, but it is not linear as suggested by the statistics. It appears to be quadratic [1].\n",
    "- Q3 looks like it would have a strong linear relationship, though the outlier is skewing the line dramatically. \n",
    "- Q4 clearly has not linear relationship whatsoever. The outlier has completely skewed the result. \n",
    "\n",
    "A visual inspections suggests that a linear regression analysis was never appropriate for most of these data sets. \n",
    "\n",
    "[\\[1\\]](http://www.rpubs.com/debosruti007/anscombeQuartet)"
   ]
  },
  {
   "cell_type": "code",
   "execution_count": 19,
   "metadata": {
    "scrolled": true
   },
   "outputs": [
    {
     "data": {
      "image/png": "[encoded data removed]",
      "text/plain": [
       "<Figure size 720x360 with 4 Axes>"
      ]
     },
     "metadata": {},
     "output_type": "display_data"
    }
   ],
   "source": [
    "fig, ((ax1, ax2), (ax3, ax4)) = plt.subplots(2,2, figsize=(10, 5))\n",
    "plt.subplots_adjust(hspace=.5)\n",
    "\n",
    "sns.regplot(x=\"x\", y=\"y\", data=Q1, ax=ax1, ci=None)\n",
    "ax1.set_title(\"Linear Relationship in Q1\")\n",
    "\n",
    "sns.regplot(x=\"x\", y=\"y\", data=Q2, ax=ax2, ci=None)\n",
    "ax2.set_title(\"Linear Relationship in Q2\")\n",
    "\n",
    "\n",
    "sns.regplot(x=\"x\", y=\"y\", data=Q3, ax=ax3, ci=None)\n",
    "ax3.set_title(\"Linear Relationship in Q3\")\n",
    "\n",
    "\n",
    "sns.regplot(x=\"x\", y=\"y\", data=Q4, ax=ax4, ci=None)\n",
    "ax4.set_title(\"Linear Relationship in Q4\")\n",
    "fig.suptitle(\"Linear Relationship of X and Y across datasets\")\n",
    "\n",
    "plt.show()"
   ]
  },
  {
   "cell_type": "markdown",
   "metadata": {},
   "source": [
    "## 4. Contrast in results"
   ]
  },
  {
   "cell_type": "code",
   "execution_count": null,
   "metadata": {},
   "outputs": [],
   "source": []
  },
  {
   "cell_type": "code",
   "execution_count": null,
   "metadata": {},
   "outputs": [],
   "source": []
  },
  {
   "cell_type": "code",
   "execution_count": null,
   "metadata": {},
   "outputs": [],
   "source": []
  },
  {
   "cell_type": "code",
   "execution_count": null,
   "metadata": {},
   "outputs": [],
   "source": []
  },
  {
   "cell_type": "code",
   "execution_count": null,
   "metadata": {},
   "outputs": [],
   "source": []
  }
 ],
 "metadata": {
  "kernelspec": {
   "display_name": "Python 3",
   "language": "python",
   "name": "python3"
  },
  "language_info": {
   "codemirror_mode": {
    "name": "ipython",
    "version": 3
   },
   "file_extension": ".py",
   "mimetype": "text/x-python",
   "name": "python",
   "nbconvert_exporter": "python",
   "pygments_lexer": "ipython3",
   "version": "3.6.5"
  }
 },
 "nbformat": 4,
 "nbformat_minor": 2
}
